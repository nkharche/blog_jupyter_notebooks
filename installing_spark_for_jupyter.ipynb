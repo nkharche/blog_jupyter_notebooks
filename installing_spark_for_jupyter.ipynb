{
 "cells": [
  {
   "cell_type": "raw",
   "metadata": {},
   "source": [
    "<style>div.prompt {display:none}</style>"
   ]
  },
  {
   "cell_type": "code",
   "execution_count": 1,
   "metadata": {
    "collapsed": false
   },
   "outputs": [
    {
     "data": {
      "text/html": [
       "<style>div.box { \n",
       "           background-color: #F2F4F4; \n",
       "           border-color: #E5E8E8; \n",
       "           border-left: 0px solid #AEB6BF; \n",
       "           padding: 0.002em;}</style>\n",
       "           \n",
       "           <style>pre {\n",
       "           display: block;\n",
       "           padding: 9.5px;\n",
       "           margin: 0 0 10px;\n",
       "           font-size: 12px;\n",
       "           line-height: 1.42857143;\n",
       "           color: #333;\n",
       "           word-break: break-all;\n",
       "           word-wrap: break-word;\n",
       "           background-color: #f5f5f5;\n",
       "           border: 1px solid #ccc;\n",
       "           border-radius: 4px;\n",
       "       }</style>"
      ],
      "text/plain": [
       "<IPython.core.display.HTML object>"
      ]
     },
     "execution_count": 1,
     "metadata": {},
     "output_type": "execute_result"
    }
   ],
   "source": [
    "# http://stackoverflow.com/questions/18024769/adding-custom-styled-paragraphs-in-markdown-cells\n",
    "from IPython.display import HTML\n",
    "style = \"\"\"<style>div.box { \n",
    "           background-color: #F2F4F4; \n",
    "           border-color: #E5E8E8; \n",
    "           border-left: 0px solid #AEB6BF; \n",
    "           padding: 0.002em;}</style>\n",
    "           \n",
    "           <style>pre {\n",
    "           display: block;\n",
    "           padding: 9.5px;\n",
    "           margin: 0 0 10px;\n",
    "           font-size: 12px;\n",
    "           line-height: 1.42857143;\n",
    "           color: #333;\n",
    "           word-break: break-all;\n",
    "           word-wrap: break-word;\n",
    "           background-color: #f5f5f5;\n",
    "           border: 1px solid #ccc;\n",
    "           border-radius: 4px;\n",
    "       }</style>\"\"\"\n",
    "HTML(style)\n"
   ]
  },
  {
   "cell_type": "markdown",
   "metadata": {},
   "source": [
    "# How to use Jupyter Notebook with Spark on Ubuntu\n",
    "\n",
    "In this post, I have outlined the protocol that I used to enable Jupyter notebooks to run Spark on my Ubuntu computer. \n",
    "I have followed, with a few tweaks, the instructions in a blog [post](!http://blog.thedataincubator.com/2017/04/spark-2-0-on-jupyter-with-toree/) by [The Data Incubator](!https://www.thedataincubator.com).\n",
    "I have the [Python 2.7 version of Anaconda](!https://www.continuum.io/downloads), which comes with Jupyter pre-installed.\n",
    "\n",
    "## Install Java\n",
    "<div class=\"box\">\n",
    "  <pre>$sudo apt-get install default-jre\n",
    "$sudo apt-get install default-jdk</pre>\n",
    "</div>\n",
    "Java installation can be verified using \n",
    "<div class=\"box\">\n",
    "  <pre>$java -version</pre>\n",
    "</div>\n",
    "I get the following response from this command\n",
    "<div class=\"box\">\n",
    "  <pre>openjdk version \"1.8.0_131\"\n",
    "OpenJDK Runtime Environment (build 1.8.0_131-8u131-b11-0ubuntu1.16.04.2-b11)\n",
    "OpenJDK 64-Bit Server VM (build 25.131-b11, mixed mode)</pre>\n",
    "</div>\n",
    "\n",
    "## Install Spark\n",
    "Download Spark from http://spark.apache.org/downloads.html and simply extract the contents of the .tgz file as follows.\n",
    "<div class=\"box\">\n",
    "  <pre>$tar zxvf spark-2.0.1-bin-hadoop2.4.tgz</pre>\n",
    "</div>\n",
    "\n",
    "## Setup paths \n",
    "Add the following two lines to shell's startup script, ~/.bashrc in my case. I installed Spark in the directory /usr/local/share/spark/.\n",
    "<div class=\"box\">\n",
    "  <pre>export SPARK_HOME=/usr/local/share/spark/spark-2.0.1-bin-hadoop2.4 \n",
    "export PYTHONPATH=$PYTHONPATH:$SPARK_HOME/python:$SPARK_HOME/python/lib</pre>\n",
    "</div>\n",
    "\n",
    "Now run the '.bashrc'\n",
    "<div class=\"box\">\n",
    "  <pre>$source ~/.bashrc</pre>\n",
    "</div>\n",
    "\n",
    "## Install Apache Toree\n",
    "Install Toree and configure Jupyter to run Toree as follows.\n",
    "<div class=\"box\">\n",
    "  <pre>$pip install https://dist.apache.org/repos/dist/dev/incubator/toree/0.2.0/snapshots/dev1/toree-pip/toree-0.2.0.dev1.tar.gz\n",
    "$jupyter toree install --user</pre>\n",
    "</div>\n",
    "\n",
    "## Install py4j\n",
    "<div class=\"box\">\n",
    "  <pre>$pip install py4j</pre>\n",
    "</div>\n",
    "\n",
    "That's it! Now we can use PySpark from Jupyter Notebooks."
   ]
  },
  {
   "cell_type": "code",
   "execution_count": 2,
   "metadata": {
    "collapsed": false
   },
   "outputs": [
    {
     "name": "stdout",
     "output_type": "stream",
     "text": [
      "2.0.1\n"
     ]
    }
   ],
   "source": [
    "from pyspark import SparkContext\n",
    "sc = SparkContext(\"local[*]\", \"temp\")\n",
    "print sc.version"
   ]
  }
 ],
 "metadata": {
  "anaconda-cloud": {},
  "kernelspec": {
   "display_name": "Python [conda root]",
   "language": "python",
   "name": "conda-root-py"
  },
  "language_info": {
   "codemirror_mode": {
    "name": "ipython",
    "version": 2
   },
   "file_extension": ".py",
   "mimetype": "text/x-python",
   "name": "python",
   "nbconvert_exporter": "python",
   "pygments_lexer": "ipython2",
   "version": "2.7.12"
  }
 },
 "nbformat": 4,
 "nbformat_minor": 1
}
