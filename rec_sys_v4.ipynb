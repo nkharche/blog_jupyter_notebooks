{
 "cells": [
  {
   "cell_type": "markdown",
   "metadata": {},
   "source": [
    "# Recommender Systems using Latent-Factor Models\n",
    "In this post, I describe an implementation of a [recommender system](!https://en.wikipedia.org/wiki/Recommender_system) based on latent-factor models and its application to the [MovieLens 100K Dataset](!http://files.grouplens.org/datasets/movielens/ml-latest-small-README.html). The system is built within the Scikit-Learn framework to allow for using Scikit-Learn features such as [Pipelines](!http://scikit-learn.org/stable/modules/generated/sklearn.pipeline.Pipeline.html) and [GridSearchCV](!http://scikit-learn.org/stable/modules/generated/sklearn.model_selection.GridSearchCV.html). "
   ]
  },
  {
   "cell_type": "markdown",
   "metadata": {
    "collapsed": true
   },
   "source": [
    "### Import the relevant libraries"
   ]
  },
  {
   "cell_type": "code",
   "execution_count": 2,
   "metadata": {
    "collapsed": false
   },
   "outputs": [],
   "source": [
    "import collections\n",
    "import numpy as np\n",
    "import pandas as pd\n",
    "from scipy.sparse import csr_matrix\n",
    "\n",
    "from sklearn.base import BaseEstimator, TransformerMixin\n",
    "from sklearn.pipeline import Pipeline\n",
    "from sklearn.model_selection import GridSearchCV\n",
    "from sklearn.model_selection import ParameterGrid\n",
    "from sklearn.metrics import r2_score\n",
    "from sklearn.metrics import mean_squared_error\n",
    "\n",
    "import pickle\n",
    "from time import time\n",
    "import requests\n",
    "import urllib\n",
    "from IPython.display import Image, display\n",
    "from IPython.core.display import HTML \n",
    "import re\n",
    "\n",
    "import matplotlib.pyplot as plt\n",
    "%matplotlib inline\n",
    "\n",
    "import seaborn as sns\n",
    "sns.set(style='white', palette='Set2')"
   ]
  },
  {
   "cell_type": "code",
   "execution_count": 3,
   "metadata": {
    "collapsed": false
   },
   "outputs": [],
   "source": [
    "np.set_printoptions(precision=2, suppress=True)\n",
    "np.random.seed(seed=0)"
   ]
  },
  {
   "cell_type": "markdown",
   "metadata": {},
   "source": [
    "## Load the data\n",
    "Download the MovieLens 100K Dataset. This a classic dataset which is often used to test the performance of recommender systems. We will use files 'movies.csv' and 'ratings.csv' from this dataset."
   ]
  },
  {
   "cell_type": "code",
   "execution_count": 4,
   "metadata": {
    "collapsed": false
   },
   "outputs": [
    {
     "data": {
      "text/plain": [
       "'!wget http://files.grouplens.org/datasets/movielens/ml-latest-small.zip\\n!unzip ml-latest-small.zip\\n!mv ml-latest-small/ ml-100k'"
      ]
     },
     "execution_count": 4,
     "metadata": {},
     "output_type": "execute_result"
    }
   ],
   "source": [
    "\"\"\"!wget http://files.grouplens.org/datasets/movielens/ml-latest-small.zip\n",
    "!unzip ml-latest-small.zip\n",
    "!mv ml-latest-small/ ml-100k\"\"\""
   ]
  },
  {
   "cell_type": "code",
   "execution_count": 5,
   "metadata": {
    "collapsed": false
   },
   "outputs": [
    {
     "name": "stdout",
     "output_type": "stream",
     "text": [
      "   movieId             title                                       genres\n",
      "0        1  Toy Story (1995)  Adventure|Animation|Children|Comedy|Fantasy\n",
      "1        2    Jumanji (1995)                   Adventure|Children|Fantasy\n",
      "   userId  itemId  rating   timestamp\n",
      "0       1      31     2.5  1260759144\n",
      "1       1    1029     3.0  1260759179\n"
     ]
    }
   ],
   "source": [
    "# Read in the data into pandas dataframes\n",
    "df_movies = pd.read_csv('ml-100k/movies.csv')\n",
    "df_ratings = pd.read_csv('ml-100k/ratings.csv')\n",
    "df_ratings.columns = ['userId', 'itemId', 'rating', 'timestamp']\n",
    "df_ratings['timestamp'] = df_ratings['timestamp'].astype(str)\n",
    "print (df_movies.head(2))\n",
    "print (df_ratings.head(2))"
   ]
  },
  {
   "cell_type": "markdown",
   "metadata": {},
   "source": [
    "### Split the dataset into train (80%) and test (20%) datasets."
   ]
  },
  {
   "cell_type": "markdown",
   "metadata": {},
   "source": [
    "First let's explore the distribution of the number of movies versus number of ratings. From the following histogram, we see that many movies are rated only by less than 10 users."
   ]
  },
  {
   "cell_type": "code",
   "execution_count": 14,
   "metadata": {
    "collapsed": false
   },
   "outputs": [
    {
     "data": {
      "text/plain": [
       "<matplotlib.text.Text at 0x7f752dc35828>"
      ]
     },
     "execution_count": 14,
     "metadata": {},
     "output_type": "execute_result"
    },
    {
     "data": {
      "image/png": "[encoded data removed]",
      "text/plain": [
       "<matplotlib.figure.Figure at 0x7f752dc785f8>"
      ]
     },
     "metadata": {},
     "output_type": "display_data"
    }
   ],
   "source": [
    "plt.hist(df_ratings.groupby(['itemId'])['userId']\n",
    "                   .count().values, bins=50);\n",
    "plt.xlim(0,80)\n",
    "plt.xlabel('Nummber of ratings')\n",
    "plt.ylabel('Nummber of movies')"
   ]
  },
  {
   "cell_type": "markdown",
   "metadata": {
    "collapsed": true
   },
   "source": [
    "We partition our dataset into train and test sets by removing 10 randomly selected movies rated by each user from the original dataset and placing them in the test set. The remaining dataset is our train set. \n",
    "\n",
    "The following function can be used to partition our dataset into train and test sets. We will use it later in this post."
   ]
  },
  {
   "cell_type": "code",
   "execution_count": 15,
   "metadata": {
    "collapsed": false
   },
   "outputs": [
    {
     "name": "stdout",
     "output_type": "stream",
     "text": [
      "93423 6710 100004\n"
     ]
    },
    {
     "data": {
      "text/plain": [
       "'ratings_extractor = RatingsExtractor()\\nratings_extractor.transform(df_train)\\n\\nratings_extractor = RatingsExtractor()\\nratings_extractor.transform(df_ratings)'"
      ]
     },
     "execution_count": 15,
     "metadata": {},
     "output_type": "execute_result"
    }
   ],
   "source": [
    "def train_test_split_df(df, test_size=10):\n",
    "    def drop_rows(df, remove_n):#, itemIds_single_rating):\n",
    "        drop_indices = np.random.choice(df.index, remove_n, replace=False)\n",
    "        #drop_indices = [i for i in drop_indices if i not in itemIds_single_rating]\n",
    "        return df.drop(drop_indices)\n",
    "\n",
    "    # ItemIds' occuring more than 20 times\n",
    "    counts = collections.Counter(df['itemId'])\n",
    "    #itemIds_single_rating = [k for k,v in counts.items() if v<2]\n",
    "\n",
    "    grouped = df.groupby(by=['userId'], group_keys=False)\n",
    "    remove_n = test_size\n",
    "    df_train = df.groupby(['userId']).apply(\n",
    "                    lambda x: drop_rows(x, remove_n))#, \n",
    "                                        #itemIds_single_rating))\n",
    "    df_train = df_train.reset_index(level=0, drop=True)\n",
    "    df_test = df[~df.index.isin(df_train.index)]\n",
    "    \n",
    "    removed_item_ids = set(df['itemId']) - set(df_train['itemId'])\n",
    "    dummy_ratings = []\n",
    "    dummy_userIds = np.random.choice(df['userId'].unique(), \n",
    "                                 size=len(removed_item_ids))\n",
    "    for i,itemid in enumerate(removed_item_ids):\n",
    "        dummy_ratings.append([dummy_userIds[i],itemid,0.001,'NaN'])\n",
    "    \n",
    "    df_train_dummy = pd.DataFrame(dummy_ratings, columns=['userId', 'itemId', 'rating', 'timestamp'])\n",
    "    df_train = pd.concat([df_train, df_train_dummy])\n",
    "    \n",
    "    return df_train, df_test\n",
    "\n",
    "\n",
    "\"\"\"#df_train, df_test = train_test_split_df(df_ratings.iloc[:1000], test_size=10)\n",
    "df_train, df_test = train_test_split_df(df_ratings, test_size=10)\n",
    "print (len(df_train), len(df_test), len(df_ratings))\"\"\"\n",
    "\n",
    "\"\"\"ratings_extractor = RatingsExtractor()\n",
    "ratings_extractor.transform(df_train)\n",
    "\n",
    "ratings_extractor = RatingsExtractor()\n",
    "ratings_extractor.transform(df_ratings)\"\"\""
   ]
  },
  {
   "cell_type": "markdown",
   "metadata": {},
   "source": [
    "## Transformer\n",
    "The following transformer (called RatingsExtractor) converts a pandas dataframe containing itemIds, userIds, and ratings into an $m \\times n$ sparse matrix, where $m$ is the number of items and $n$ is the number of users. It also implements dictionaries to convert the row and column indices into item and user ids and vice versa."
   ]
  },
  {
   "cell_type": "code",
   "execution_count": 7,
   "metadata": {
    "collapsed": false
   },
   "outputs": [
    {
     "data": {
      "text/plain": [
       "'ratings_extractor = RatingsExtractor()\\nratings = ratings_extractor.transform(df_ratings)'"
      ]
     },
     "execution_count": 7,
     "metadata": {},
     "output_type": "execute_result"
    }
   ],
   "source": [
    "class RatingsExtractor(BaseEstimator, TransformerMixin):\n",
    "    def __init__(self):\n",
    "        self.index2user_dict = {}\n",
    "        self.index2item_dict = {}\n",
    "        self.user2index_dict = {}\n",
    "        self.item2index_dict = {}\n",
    "        self.ratings = csr_matrix([], dtype=np.float)\n",
    "\n",
    "    def fit(self,df_ratings):\n",
    "        return self\n",
    "    \n",
    "    def transform(self, df_ratings):\n",
    "        for i,uid in enumerate(sorted(df_ratings['userId'].unique())):\n",
    "            self.index2user_dict[i] = uid\n",
    "        for i,mid in enumerate(sorted(df_ratings['itemId'].unique())):\n",
    "            self.index2item_dict[i] = mid\n",
    "            \n",
    "        self.user2index_dict = {v:k for k,v in self.index2user_dict.items()}\n",
    "        self.item2index_dict = {v:k for k,v in self.index2item_dict.items()}\n",
    "\n",
    "        n_items = len(self.index2item_dict)\n",
    "        n_users = len(self.index2user_dict)\n",
    "        row_ind = [self.item2index_dict[mov]  \n",
    "                   for mov in df_ratings['itemId'].values]\n",
    "        col_ind = [self.user2index_dict[mov] \n",
    "                   for mov in df_ratings['userId'].values]\n",
    "        data = df_ratings['rating'].values\n",
    "\n",
    "        self.ratings = csr_matrix((data, (row_ind, col_ind)), shape=(n_items, n_users))\n",
    "        return self.ratings\n",
    "    \n",
    "    def get_row_col_indices(self, df_test):\n",
    "        row_indices = [self.item2index_dict[k] \n",
    "                       for k in df_test['itemId'].values]\n",
    "        col_indices = [self.user2index_dict[k] \n",
    "                       for k in df_test['userId'].values]\n",
    "        return list(zip(row_indices,col_indices))\n",
    "\n",
    "\n",
    "\"\"\"ratings_extractor = RatingsExtractor()\n",
    "ratings = ratings_extractor.transform(df_ratings)\"\"\""
   ]
  },
  {
   "cell_type": "markdown",
   "metadata": {},
   "source": [
    "## Estimator\n",
    "Our estimator implements the intuition shown in the figure below.\n",
    "\n",
    "![](img/rec_sys_matrices.png)\n",
    "\n",
    "\n",
    "So our predicted rating for item-user pair ($i,x$) is given by:\n",
    "\\begin{align}\n",
    "\\hat{r}_{ix} = \\mu + b_i + b_x + \\mathbf{q_i} \\cdot \\mathbf{p_x} \\\\\n",
    "\\end{align}\n",
    "\n",
    "where,\n",
    "\n",
    "$\\mu$ is the global mean rating,\n",
    "\n",
    "$b_i$ is the item bias for item $i$,\n",
    "\n",
    "$b_x$ is the user bias for user $x$,\n",
    "\n",
    "$\\mathbf{q_i}$ is the latent factor vector for item $i$, and\n",
    "\n",
    "$\\mathbf{p_x}$ is the latent factor vector for user $x$."
   ]
  },
  {
   "cell_type": "markdown",
   "metadata": {},
   "source": [
    "The objective function can be written as\n",
    "\\begin{align}\n",
    "J = \n",
    " \\sum_{(i,x) \\in R} \\left( r_{i,x} - \\left( \\mu + \n",
    "                      b_i + b_x + \n",
    "                      \\mathbf{q_i} \\cdot \\mathbf{p_x} \\right) \\right)^2  \n",
    "                   + \\lambda_{if} \\sum_i \\left\\lVert q_i \\right\\rVert ^2  \n",
    "                   + \\lambda_{xf} \\sum_x \\left\\lVert p_x \\right\\rVert ^2 \\\\  \n",
    "                   + \\lambda_{ib} \\sum_i b_i^2 + \n",
    "                   \\lambda_{xb} \\sum_x b_x^2 \n",
    "\\end{align}\n",
    "\n",
    "Here, $\\lambda_{if}, \\lambda_{xf}, \\lambda_{ib}, \\lambda_{xb}$ are regularization parameters. I used Stochastic Gradient Descent (SGD) algorithm to minimize the objective function $J$. Alternatively, one can also use Alternating Least Squares (ALS) algorithm.\n",
    "\n",
    "In the SGD algorithm, we update each parameter ($b_x$, $b_i$, $q_i$, and $p_x$) with each sample using gradient update of the form\n",
    "\n",
    "\\begin{align}\n",
    "\\theta := \\theta - \\eta \\frac{\\partial J}{\\partial \\theta}\n",
    "\\end{align}.\n",
    "\n",
    "Our SGD parameter updates become\n",
    "\\begin{align}\n",
    "b_i := b_i + \\eta \\left( e_{ix} - \\lambda{ib} b_i \\right) \\\\\n",
    "b_x := b_x + \\eta \\left( e_{ix} - \\lambda_{xb} b_x \\right) \\\\\n",
    "\\mathbf{q_i} := \\mathbf{q_i} + \\eta \\left( e_{ix} \\mathbf{p_x} - \\lambda_{if} \\mathbf{q_i} \\right) \\\\\n",
    "\\mathbf{p_x} := \\mathbf{p_x} + \\eta \\left( e_{ix} \\mathbf{q_i} - \\lambda_{xf} \\mathbf{p_x} \\right)\n",
    "\\end{align}\n",
    "\n",
    "where, $e_{ix} = r_{ix} - \\hat{r}_{ix}$ is the prediction error.\n",
    "\n",
    "The above algorithm is implemented in LatentFactorRecSys class below."
   ]
  },
  {
   "cell_type": "code",
   "execution_count": 8,
   "metadata": {
    "collapsed": false
   },
   "outputs": [
    {
     "data": {
      "text/plain": [
       "\"rec = LatentFactorRecSys(max_iter=2)\\n# print (rec.get_params())\\n# rec.set_params(max_iter=10)\\n\\nrec.fit(ratings)\\n\\nconv_curve = rec.get_convergence_curve()\\niter_index,rmse = tuple(zip(*conv_curve))\\n\\nplt.plot(iter_index,rmse, '-ok')\\nplt.xlabel('iteration')\\nplt.ylabel('RMSE')\""
      ]
     },
     "execution_count": 8,
     "metadata": {},
     "output_type": "execute_result"
    }
   ],
   "source": [
    "class LatentFactorRecSys(BaseEstimator, TransformerMixin):\n",
    "    def __init__(self, reg_item_fact=0.1, reg_user_fact=0.1, \n",
    "                 reg_item_bias=0.1, reg_user_bias=0.1,\n",
    "                 num_factors=20,\n",
    "                 learning_rate=0.001, max_iter=10,\n",
    "                 tolerance=0.1):\n",
    "        self.reg_item_fact = reg_item_fact\n",
    "        self.reg_user_fact = reg_user_fact\n",
    "        self.reg_item_bias = reg_item_bias\n",
    "        self.reg_user_bias = reg_user_bias\n",
    "        self.num_factors = num_factors\n",
    "        self.learning_rate = learning_rate\n",
    "        self.max_iter = max_iter\n",
    "        self.tolerance = tolerance\n",
    "        \n",
    "        \"\"\"self.R = csr_matrix([], dtype=np.float)\n",
    "        self.mu = 0.0\n",
    "        self.bx = csr_matrix([], dtype=np.float)\n",
    "        self.bi = csr_matrix([], dtype=np.float)\n",
    "        self.P = csr_matrix([], dtype=np.float)\n",
    "        self.Q = csr_matrix([], dtype=np.float)\n",
    "        self.rmse_iter = []\"\"\"\n",
    "        \n",
    " \n",
    "    def fit(self,ratings,y=None):\n",
    "        self.R = ratings\n",
    "\n",
    "        f = self.num_factors\n",
    "        eta = self.learning_rate\n",
    "        lambda_if = self.reg_item_fact\n",
    "        lambda_xf = self.reg_user_fact\n",
    "        lambda_ib = self.reg_item_bias\n",
    "        lambda_xb = self.reg_user_bias\n",
    "            \n",
    "        #nonzero_indices = list(zip(self.R.nonzero()[0].tolist(),\n",
    "        #                           self.R.nonzero()[1].tolist()))\n",
    "        nonzero_indices = list(zip(*ratings.nonzero()))\n",
    "        n_items,n_users = self.R.shape \n",
    "        \n",
    "        self.P = np.random.uniform(0,np.sqrt(self.R.max()/f),\n",
    "                                   size=(n_users,f)) # User factors\n",
    "        self.Q = np.random.uniform(0,np.sqrt(self.R.max()/f),\n",
    "                                   size=(n_items,f)) # Item factors\n",
    "        self.bx = np.random.uniform(-1,1,n_users) # User bias\n",
    "        self.bi = np.random.uniform(-1,1,n_items) # Item bias\n",
    "        self.mu = self.R.sum()/self.R.size # Overall mean rating\n",
    "        \n",
    "        self.rmse_iter = []\n",
    "        for it in range(self.max_iter):    \n",
    "            for i,x in nonzero_indices:\n",
    "                res_ix = self.R[i,x] - self.predict_ix(i,x)\n",
    "                self.bx[x]  += eta*(res_ix - lambda_xb*self.bx[x])\n",
    "                self.bi[i]  += eta*(res_ix - lambda_ib*self.bi[i])\n",
    "                ptemp = self.P[x,:]\n",
    "                self.P[x,:] += eta*(res_ix*self.Q[i,:] - \n",
    "                                    lambda_xf*self.P[x,:])\n",
    "                self.Q[i,:] += eta*(res_ix*ptemp - \n",
    "                                    lambda_if*self.Q[i,:])        \n",
    "        \n",
    "            cur_rmse = self.rmse_all()\n",
    "            self.rmse_iter.append((it,cur_rmse))\n",
    "            if (it>0 and self.rmse_iter[it-1][1]-cur_rmse < self.tolerance):\n",
    "                print ('converged at iter = %d, rmse = %f' % (it+1, cur_rmse))\n",
    "                return self\n",
    "            \n",
    "        print ('not converged, number of iterations exceeded max_iter = %d ' % self.max_iter)\n",
    "        print ('current rmse = %f' % cur_rmse)\n",
    "        return self\n",
    "    \n",
    "    \n",
    "    def transform(self,ratings,y=None):\n",
    "        return self\n",
    "    \n",
    "    def predict_ix(self,item_index,user_index):\n",
    "        return (self.mu + self.bx[user_index] + self.bi[item_index] + \n",
    "                np.dot(self.P[user_index,:],self.Q[item_index,:]))\n",
    "    \n",
    "    def predict(self,itemid_userid_array,ratings_extractor):\n",
    "        pred = []\n",
    "        for itemid,userid in itemid_userid_array:\n",
    "            item_index = ratings_extractor.item2index_dict[itemid]\n",
    "            user_index = ratings_extractor.user2index_dict[userid]\n",
    "            #print (itemid,userid,item_index,user_index)\n",
    "            pred.append(self.predict_ix(item_index,user_index))\n",
    "        return pred\n",
    "    \n",
    "        \n",
    "    def predict_all(self):\n",
    "        n_items, n_users = self.R.shape\n",
    "\n",
    "        #nonzero_indices = list(zip(self.R.nonzero()[0].tolist(),\n",
    "        #                           self.R.nonzero()[1].tolist()))\n",
    "        nonzero_indices = list(zip(*self.R.nonzero()))\n",
    "        row_ind = [i for i,x in nonzero_indices]\n",
    "        col_ind = [x for i,x in nonzero_indices]\n",
    "        mask = csr_matrix(([1.]*self.R.size, (row_ind, col_ind)), \n",
    "                          shape=(n_items, n_users))\n",
    "        \n",
    "        biases = (self.mu*mask \n",
    "                  + mask.multiply(np.tile(self.bx,(n_items,1))) \n",
    "                  + mask.multiply(np.tile(self.bi[np.newaxis].transpose(),\n",
    "                                        (1,n_users))))\n",
    "        predictions = biases + mask.multiply(np.matmul(self.Q,self.P.T)) # elementwise multiplication\n",
    "        return predictions\n",
    "        \n",
    "        \n",
    "    def rmse_all(self):\n",
    "        Residue = self.R - self.predict_all() \n",
    "        return np.sqrt(Residue.multiply(Residue).sum()/self.R.size)\n",
    "        \n",
    "    def score(self,ratings,y=None):\n",
    "        # rec.named_steps['lf_recommender'].R.data                \n",
    "        return r2_score(self.R.data, self.predict_all().data)\n",
    "    \n",
    "    def get_convergence_curve(self):\n",
    "        return self.rmse_iter\n",
    "    \n",
    "    \n",
    "\"\"\"rec = LatentFactorRecSys(max_iter=2)\n",
    "# print (rec.get_params())\n",
    "# rec.set_params(max_iter=10)\n",
    "\n",
    "rec.fit(ratings)\n",
    "\n",
    "conv_curve = rec.get_convergence_curve()\n",
    "iter_index,rmse = tuple(zip(*conv_curve))\n",
    "\n",
    "plt.plot(iter_index,rmse, '-ok')\n",
    "plt.xlabel('iteration')\n",
    "plt.ylabel('RMSE')\"\"\""
   ]
  },
  {
   "cell_type": "markdown",
   "metadata": {},
   "source": [
    "## Pipeline\n",
    "We combine our RatingsExtractor and LatentFactorRecSys classes in a scikit-learn pipeline."
   ]
  },
  {
   "cell_type": "code",
   "execution_count": 9,
   "metadata": {
    "collapsed": false
   },
   "outputs": [
    {
     "data": {
      "text/plain": [
       "\"num_samples = 1000\\nrec_pipeline.fit(df_ratings.sample(num_samples, random_state=0))\\nprint (rec_pipeline)\\n\\nconv_curve = rec_pipeline.named_steps['lf_recommender'].get_convergence_curve()\\niter_index,rmse = tuple(zip(*conv_curve))\\n\\nplt.plot(iter_index,rmse, '-ok')\\nplt.xlabel('iteration')\\nplt.ylabel('RMSE')\""
      ]
     },
     "execution_count": 9,
     "metadata": {},
     "output_type": "execute_result"
    }
   ],
   "source": [
    "rec_pipeline = Pipeline(\n",
    "    [('ratings_extractor', RatingsExtractor()),     \n",
    "     ('lf_recommender', LatentFactorRecSys(max_iter=10, tolerance=0.01))\n",
    "    ])\n",
    "\n",
    "\"\"\"num_samples = 1000\n",
    "rec_pipeline.fit(df_ratings.sample(num_samples, random_state=0))\n",
    "print (rec_pipeline)\n",
    "\n",
    "conv_curve = rec_pipeline.named_steps['lf_recommender'].get_convergence_curve()\n",
    "iter_index,rmse = tuple(zip(*conv_curve))\n",
    "\n",
    "plt.plot(iter_index,rmse, '-ok')\n",
    "plt.xlabel('iteration')\n",
    "plt.ylabel('RMSE')\"\"\""
   ]
  },
  {
   "cell_type": "markdown",
   "metadata": {},
   "source": [
    "## GridSearch\n",
    "Next, we perform a gridsearch over our model parameters $f$ (number of latent factors), $\\lambda_{if}, \\lambda_{xf}, \\lambda_{ib}, \\lambda_{xb}$  and the hyperparameter $\\eta$ (learning rate). \n",
    "\n",
    "In the following grid search, I have used only 1,000 samples and $max\\_iter = 30$. In addition, all the reguralization coefficients are set to the same value to limit the search space. This is done to keep the computations tractable."
   ]
  },
  {
   "cell_type": "code",
   "execution_count": 11,
   "metadata": {
    "collapsed": false,
    "scrolled": true
   },
   "outputs": [
    {
     "name": "stdout",
     "output_type": "stream",
     "text": [
      "GridSearchCV(cv=2, error_score='raise',\n",
      "       estimator=Pipeline(steps=[('ratings_extractor', RatingsExtractor()), ('lf_recommender', LatentFactorRecSys(learning_rate=0.001, max_iter=10, num_factors=20,\n",
      "          reg_item_bias=0.1, reg_item_fact=0.1, reg_user_bias=0.1,\n",
      "          reg_user_fact=0.1, tolerance=0.01))]),\n",
      "       fit_params={}, iid=True, n_jobs=3,\n",
      "       param_grid=[{'lf_recommender__num_factors': [40, 60, 80, 100], 'lf_recommender__learning_rate': [0.0001, 0.001, 0.01], 'lf_recommender__max_iter': [30], 'lf_recommender__reg_item_bias': [0.001], 'lf_recommender__reg_item_fact': [0.001], 'lf_recommender__reg_user_bias': [0.001], 'lf_recommender__reg_..._item_fact': [1.0], 'lf_recommender__reg_user_bias': [1.0], 'lf_recommender__reg_user_fact': [1.0]}],\n",
      "       pre_dispatch='2*n_jobs', refit=True, return_train_score=True,\n",
      "       scoring=None, verbose=0)\n",
      "converged at iter = 2, rmse = 1.777826\n",
      "converged at iter = 2, rmse = 1.828849\n",
      "converged at iter = 2, rmse = 1.820899\n",
      "converged at iter = 2, rmse = 1.886549\n",
      "converged at iter = 2, rmse = 1.815157\n",
      "converged at iter = 2, rmse = 1.892730\n",
      "converged at iter = 2, rmse = 1.958522\n",
      "converged at iter = 2, rmse = 1.842210\n",
      "not converged, number of iterations exceeded max_iter = 30 \n",
      "current rmse = 1.495032\n",
      "converged at iter = 29, rmse = 1.465206\n",
      "not converged, number of iterations exceeded max_iter = 30 \n",
      "current rmse = 1.531471\n",
      "converged at iter = 30, rmse = 1.455406\n",
      "not converged, number of iterations exceeded max_iter = 30 \n",
      "current rmse = 1.502702\n",
      "not converged, number of iterations exceeded max_iter = 30 \n",
      "current rmse = 1.506124\n",
      "converged at iter = 30, rmse = 1.450238\n",
      "not converged, number of iterations exceeded max_iter = 30 \n",
      "current rmse = 0.447158\n",
      "not converged, number of iterations exceeded max_iter = 30 \n",
      "current rmse = 0.438726\n",
      "converged at iter = 27, rmse = 1.419675\n",
      "not converged, number of iterations exceeded max_iter = 30 \n",
      "current rmse = 0.443659\n",
      "not converged, number of iterations exceeded max_iter = 30 \n",
      "current rmse = 0.447455\n",
      "not converged, number of iterations exceeded max_iter = 30 \n",
      "current rmse = 0.462130\n",
      "not converged, number of iterations exceeded max_iter = 30 \n",
      "current rmse = 0.441478\n",
      "not converged, number of iterations exceeded max_iter = 30 \n",
      "current rmse = 0.435423\n",
      "converged at iter = 2, rmse = 1.784997\n",
      "converged at iter = 2, rmse = 1.893901\n",
      "converged at iter = 2, rmse = 1.874529\n",
      "converged at iter = 2, rmse = 1.833197\n",
      "converged at iter = 2, rmse = 1.837853\n",
      "converged at iter = 2, rmse = 1.898421\n",
      "converged at iter = 2, rmse = 1.826771\n",
      "converged at iter = 2, rmse = 1.874525\n",
      "not converged, number of iterations exceeded max_iter = 30 \n",
      "current rmse = 0.458926\n",
      "not converged, number of iterations exceeded max_iter = 30 \n",
      "current rmse = 1.498145\n",
      "not converged, number of iterations exceeded max_iter = 30 \n",
      "current rmse = 1.472105\n",
      "converged at iter = 27, rmse = 1.468265\n",
      "converged at iter = 27, rmse = 1.486684\n",
      "converged at iter = 30, rmse = 1.415607\n",
      "not converged, number of iterations exceeded max_iter = 30 \n",
      "current rmse = 1.484826\n",
      "converged at iter = 29, rmse = 1.453231\n",
      "not converged, number of iterations exceeded max_iter = 30 \n",
      "current rmse = 1.470400\n",
      "not converged, number of iterations exceeded max_iter = 30 \n",
      "current rmse = 0.469220\n",
      "not converged, number of iterations exceeded max_iter = 30 \n",
      "current rmse = 0.436152\n",
      "not converged, number of iterations exceeded max_iter = 30 \n",
      "current rmse = 0.457324\n",
      "not converged, number of iterations exceeded max_iter = 30 \n",
      "current rmse = 0.459726\n",
      "not converged, number of iterations exceeded max_iter = 30 \n",
      "current rmse = 0.438211\n",
      "not converged, number of iterations exceeded max_iter = 30 \n",
      "current rmse = 0.440269\n",
      "converged at iter = 2, rmse = 1.888414\n",
      "converged at iter = 2, rmse = 1.830839\n",
      "converged at iter = 2, rmse = 1.809775\n",
      "converged at iter = 2, rmse = 1.950127\n",
      "converged at iter = 2, rmse = 1.879681\n",
      "not converged, number of iterations exceeded max_iter = 30 \n",
      "current rmse = 0.443645\n",
      "converged at iter = 2, rmse = 1.811025\n",
      "converged at iter = 2, rmse = 1.759191\n",
      "converged at iter = 2, rmse = 1.803322\n",
      "not converged, number of iterations exceeded max_iter = 30 \n",
      "current rmse = 0.450282\n",
      "not converged, number of iterations exceeded max_iter = 30 \n",
      "current rmse = 1.431791\n",
      "not converged, number of iterations exceeded max_iter = 30 \n",
      "current rmse = 1.521118\n",
      "not converged, number of iterations exceeded max_iter = 30 \n",
      "current rmse = 1.517283\n",
      "converged at iter = 24, rmse = 1.440038\n",
      "not converged, number of iterations exceeded max_iter = 30 \n",
      "current rmse = 1.474165\n",
      "not converged, number of iterations exceeded max_iter = 30 \n",
      "current rmse = 1.478043\n",
      "converged at iter = 26, rmse = 1.422170\n",
      "converged at iter = 30, rmse = 1.463759\n",
      "not converged, number of iterations exceeded max_iter = 30 \n",
      "current rmse = 0.478135\n",
      "not converged, number of iterations exceeded max_iter = 30 \n",
      "current rmse = 0.465071\n",
      "not converged, number of iterations exceeded max_iter = 30 \n",
      "current rmse = 0.470699\n",
      "not converged, number of iterations exceeded max_iter = 30 \n",
      "current rmse = 0.455117\n",
      "not converged, number of iterations exceeded max_iter = 30 \n",
      "current rmse = 0.472355\n",
      "not converged, number of iterations exceeded max_iter = 30 \n",
      "current rmse = 0.471608\n",
      "converged at iter = 2, rmse = 1.823752\n",
      "converged at iter = 2, rmse = 1.849292\n",
      "not converged, number of iterations exceeded max_iter = 30 \n",
      "current rmse = 0.474583\n",
      "converged at iter = 2, rmse = 1.891493\n",
      "converged at iter = 2, rmse = 1.889316\n",
      "converged at iter = 2, rmse = 1.846779\n",
      "converged at iter = 2, rmse = 1.813008\n",
      "not converged, number of iterations exceeded max_iter = 30 \n",
      "current rmse = 0.459500\n",
      "converged at iter = 2, rmse = 1.906590\n",
      "converged at iter = 2, rmse = 1.865887\n",
      "not converged, number of iterations exceeded max_iter = 30 \n",
      "current rmse = 1.365381\n",
      "not converged, number of iterations exceeded max_iter = 30 \n",
      "current rmse = 1.353588\n",
      "not converged, number of iterations exceeded max_iter = 30 \n",
      "current rmse = 1.407780\n",
      "not converged, number of iterations exceeded max_iter = 30 \n",
      "current rmse = 1.354890\n",
      "not converged, number of iterations exceeded max_iter = 30 \n",
      "current rmse = 1.395890\n",
      "not converged, number of iterations exceeded max_iter = 30 \n",
      "current rmse = 1.380766\n",
      "converged at iter = 24, rmse = 0.681698\n",
      "not converged, number of iterations exceeded max_iter = 30 \n",
      "current rmse = 1.418345\n",
      "not converged, number of iterations exceeded max_iter = 30 \n",
      "current rmse = 1.364138\n",
      "converged at iter = 24, rmse = 0.676327\n",
      "converged at iter = 23, rmse = 0.660403\n",
      "converged at iter = 24, rmse = 0.698259\n",
      "converged at iter = 24, rmse = 0.690734\n",
      "converged at iter = 25, rmse = 0.672983\n",
      "converged at iter = 25, rmse = 0.675286\n",
      "converged at iter = 25, rmse = 0.662770\n",
      "not converged, number of iterations exceeded max_iter = 30 \n",
      "current rmse = 0.456928\n"
     ]
    },
    {
     "data": {
      "text/plain": [
       "GridSearchCV(cv=2, error_score='raise',\n",
       "       estimator=Pipeline(steps=[('ratings_extractor', RatingsExtractor()), ('lf_recommender', LatentFactorRecSys(learning_rate=0.001, max_iter=10, num_factors=20,\n",
       "          reg_item_bias=0.1, reg_item_fact=0.1, reg_user_bias=0.1,\n",
       "          reg_user_fact=0.1, tolerance=0.01))]),\n",
       "       fit_params={}, iid=True, n_jobs=3,\n",
       "       param_grid=[{'lf_recommender__num_factors': [40, 60, 80, 100], 'lf_recommender__learning_rate': [0.0001, 0.001, 0.01], 'lf_recommender__max_iter': [30], 'lf_recommender__reg_item_bias': [0.001], 'lf_recommender__reg_item_fact': [0.001], 'lf_recommender__reg_user_bias': [0.001], 'lf_recommender__reg_..._item_fact': [1.0], 'lf_recommender__reg_user_bias': [1.0], 'lf_recommender__reg_user_fact': [1.0]}],\n",
       "       pre_dispatch='2*n_jobs', refit=True, return_train_score=True,\n",
       "       scoring=None, verbose=0)"
      ]
     },
     "execution_count": 11,
     "metadata": {},
     "output_type": "execute_result"
    }
   ],
   "source": [
    "\"\"\"num_latent_factors = [10] #[10, 20]\n",
    "regularizations = [0.1] #[0.1, 1.0]\n",
    "learning_rates = [0.01] #[0.01, 0.1]\n",
    "iterations = [2] #[25, 50, 75, 100]\"\"\"\n",
    "\n",
    "num_latent_factors = [40, 60, 80, 100]\n",
    "regularizations = [0.001, 0.01, 0.1, 1.0]\n",
    "learning_rates = [0.0001, 0.001, 0.01]\n",
    "iterations = [30]\n",
    "\n",
    "grid= []\n",
    "for reg in regularizations:\n",
    "    grid.append({'lf_recommender__num_factors': num_latent_factors,\n",
    "                 'lf_recommender__learning_rate': learning_rates,\n",
    "                 'lf_recommender__max_iter': iterations,\n",
    "                 'lf_recommender__reg_item_bias': [reg],\n",
    "                 'lf_recommender__reg_item_fact': [reg],\n",
    "                 'lf_recommender__reg_user_bias': [reg],\n",
    "                 'lf_recommender__reg_user_fact': [reg],\n",
    "                })\n",
    "    \n",
    "#print (list(ParameterGrid(grid)))\n",
    "\n",
    "grid_search = GridSearchCV(rec_pipeline, param_grid=grid, \n",
    "                           cv=2, verbose=0, n_jobs=3)\n",
    "print (grid_search)\n",
    "\n",
    "num_samples = 1000\n",
    "grid_search.fit(df_ratings.sample(num_samples, random_state=0))"
   ]
  },
  {
   "cell_type": "code",
   "execution_count": 12,
   "metadata": {
    "collapsed": false,
    "scrolled": true
   },
   "outputs": [
    {
     "data": {
      "text/plain": [
       "{'mean_fit_time': array([ 0.18,  0.25,  0.29,  0.3 ,  3.88,  4.25,  3.7 ,  4.09,  4.3 ,\n",
       "         4.02,  4.03,  4.04,  0.3 ,  0.28,  0.3 ,  0.23,  3.99,  3.71,\n",
       "         3.81,  3.87,  3.84,  4.04,  4.54,  4.55,  0.24,  0.33,  0.35,\n",
       "         0.36,  4.02,  3.27,  4.11,  3.54,  3.61,  3.92,  4.  ,  4.12,\n",
       "         0.31,  0.32,  0.29,  0.32,  4.1 ,  4.01,  3.93,  4.07,  3.1 ,\n",
       "         3.1 ,  2.96,  2.54]),\n",
       " 'mean_score_time': array([ 0.01,  0.01,  0.01,  0.01,  0.02,  0.01,  0.01,  0.01,  0.02,\n",
       "         0.01,  0.02,  0.01,  0.02,  0.02,  0.01,  0.01,  0.03,  0.01,\n",
       "         0.01,  0.04,  0.02,  0.01,  0.02,  0.02,  0.01,  0.03,  0.02,\n",
       "         0.03,  0.01,  0.01,  0.02,  0.02,  0.02,  0.01,  0.02,  0.02,\n",
       "         0.02,  0.01,  0.02,  0.01,  0.01,  0.02,  0.01,  0.01,  0.01,\n",
       "         0.01,  0.03,  0.02]),\n",
       " 'mean_test_score': array([-1.76, -1.91, -1.91, -2.06, -0.84, -0.95, -0.87, -0.74,  0.83,\n",
       "         0.83,  0.83,  0.83, -1.87, -1.91, -1.84, -2.01, -0.87, -0.85,\n",
       "        -0.78, -0.81,  0.83,  0.82,  0.84,  0.83, -1.93, -2.  , -1.88,\n",
       "        -1.69, -0.85, -0.85, -0.85, -0.76,  0.81,  0.82,  0.81,  0.82,\n",
       "        -1.86, -2.03, -1.84, -2.01, -0.63, -0.6 , -0.58, -0.64,  0.61,\n",
       "         0.61,  0.61,  0.62]),\n",
       " 'mean_train_score': array([-1.76, -1.91, -1.91, -2.06, -0.84, -0.95, -0.87, -0.74,  0.83,\n",
       "         0.83,  0.83,  0.83, -1.87, -1.91, -1.84, -2.01, -0.87, -0.85,\n",
       "        -0.78, -0.81,  0.83,  0.82,  0.84,  0.83, -1.93, -2.  , -1.88,\n",
       "        -1.69, -0.85, -0.85, -0.85, -0.76,  0.81,  0.82,  0.81,  0.82,\n",
       "        -1.86, -2.03, -1.84, -2.01, -0.63, -0.6 , -0.58, -0.64,  0.61,\n",
       "         0.61,  0.61,  0.62]),\n",
       " 'param_lf_recommender__learning_rate': masked_array(data = [0.0001 0.0001 0.0001 0.0001 0.001 0.001 0.001 0.001 0.01 0.01 0.01 0.01\n",
       "  0.0001 0.0001 0.0001 0.0001 0.001 0.001 0.001 0.001 0.01 0.01 0.01 0.01\n",
       "  0.0001 0.0001 0.0001 0.0001 0.001 0.001 0.001 0.001 0.01 0.01 0.01 0.01\n",
       "  0.0001 0.0001 0.0001 0.0001 0.001 0.001 0.001 0.001 0.01 0.01 0.01 0.01],\n",
       "              mask = [False False False False False False False False False False False False\n",
       "  False False False False False False False False False False False False\n",
       "  False False False False False False False False False False False False\n",
       "  False False False False False False False False False False False False],\n",
       "        fill_value = ?),\n",
       " 'param_lf_recommender__max_iter': masked_array(data = [30 30 30 30 30 30 30 30 30 30 30 30 30 30 30 30 30 30 30 30 30 30 30 30 30\n",
       "  30 30 30 30 30 30 30 30 30 30 30 30 30 30 30 30 30 30 30 30 30 30 30],\n",
       "              mask = [False False False False False False False False False False False False\n",
       "  False False False False False False False False False False False False\n",
       "  False False False False False False False False False False False False\n",
       "  False False False False False False False False False False False False],\n",
       "        fill_value = ?),\n",
       " 'param_lf_recommender__num_factors': masked_array(data = [40 60 80 100 40 60 80 100 40 60 80 100 40 60 80 100 40 60 80 100 40 60 80\n",
       "  100 40 60 80 100 40 60 80 100 40 60 80 100 40 60 80 100 40 60 80 100 40 60\n",
       "  80 100],\n",
       "              mask = [False False False False False False False False False False False False\n",
       "  False False False False False False False False False False False False\n",
       "  False False False False False False False False False False False False\n",
       "  False False False False False False False False False False False False],\n",
       "        fill_value = ?),\n",
       " 'param_lf_recommender__reg_item_bias': masked_array(data = [0.001 0.001 0.001 0.001 0.001 0.001 0.001 0.001 0.001 0.001 0.001 0.001\n",
       "  0.01 0.01 0.01 0.01 0.01 0.01 0.01 0.01 0.01 0.01 0.01 0.01 0.1 0.1 0.1\n",
       "  0.1 0.1 0.1 0.1 0.1 0.1 0.1 0.1 0.1 1.0 1.0 1.0 1.0 1.0 1.0 1.0 1.0 1.0\n",
       "  1.0 1.0 1.0],\n",
       "              mask = [False False False False False False False False False False False False\n",
       "  False False False False False False False False False False False False\n",
       "  False False False False False False False False False False False False\n",
       "  False False False False False False False False False False False False],\n",
       "        fill_value = ?),\n",
       " 'param_lf_recommender__reg_item_fact': masked_array(data = [0.001 0.001 0.001 0.001 0.001 0.001 0.001 0.001 0.001 0.001 0.001 0.001\n",
       "  0.01 0.01 0.01 0.01 0.01 0.01 0.01 0.01 0.01 0.01 0.01 0.01 0.1 0.1 0.1\n",
       "  0.1 0.1 0.1 0.1 0.1 0.1 0.1 0.1 0.1 1.0 1.0 1.0 1.0 1.0 1.0 1.0 1.0 1.0\n",
       "  1.0 1.0 1.0],\n",
       "              mask = [False False False False False False False False False False False False\n",
       "  False False False False False False False False False False False False\n",
       "  False False False False False False False False False False False False\n",
       "  False False False False False False False False False False False False],\n",
       "        fill_value = ?),\n",
       " 'param_lf_recommender__reg_user_bias': masked_array(data = [0.001 0.001 0.001 0.001 0.001 0.001 0.001 0.001 0.001 0.001 0.001 0.001\n",
       "  0.01 0.01 0.01 0.01 0.01 0.01 0.01 0.01 0.01 0.01 0.01 0.01 0.1 0.1 0.1\n",
       "  0.1 0.1 0.1 0.1 0.1 0.1 0.1 0.1 0.1 1.0 1.0 1.0 1.0 1.0 1.0 1.0 1.0 1.0\n",
       "  1.0 1.0 1.0],\n",
       "              mask = [False False False False False False False False False False False False\n",
       "  False False False False False False False False False False False False\n",
       "  False False False False False False False False False False False False\n",
       "  False False False False False False False False False False False False],\n",
       "        fill_value = ?),\n",
       " 'param_lf_recommender__reg_user_fact': masked_array(data = [0.001 0.001 0.001 0.001 0.001 0.001 0.001 0.001 0.001 0.001 0.001 0.001\n",
       "  0.01 0.01 0.01 0.01 0.01 0.01 0.01 0.01 0.01 0.01 0.01 0.01 0.1 0.1 0.1\n",
       "  0.1 0.1 0.1 0.1 0.1 0.1 0.1 0.1 0.1 1.0 1.0 1.0 1.0 1.0 1.0 1.0 1.0 1.0\n",
       "  1.0 1.0 1.0],\n",
       "              mask = [False False False False False False False False False False False False\n",
       "  False False False False False False False False False False False False\n",
       "  False False False False False False False False False False False False\n",
       "  False False False False False False False False False False False False],\n",
       "        fill_value = ?),\n",
       " 'params': ({'lf_recommender__learning_rate': 0.0001,\n",
       "   'lf_recommender__max_iter': 30,\n",
       "   'lf_recommender__num_factors': 40,\n",
       "   'lf_recommender__reg_item_bias': 0.001,\n",
       "   'lf_recommender__reg_item_fact': 0.001,\n",
       "   'lf_recommender__reg_user_bias': 0.001,\n",
       "   'lf_recommender__reg_user_fact': 0.001},\n",
       "  {'lf_recommender__learning_rate': 0.0001,\n",
       "   'lf_recommender__max_iter': 30,\n",
       "   'lf_recommender__num_factors': 60,\n",
       "   'lf_recommender__reg_item_bias': 0.001,\n",
       "   'lf_recommender__reg_item_fact': 0.001,\n",
       "   'lf_recommender__reg_user_bias': 0.001,\n",
       "   'lf_recommender__reg_user_fact': 0.001},\n",
       "  {'lf_recommender__learning_rate': 0.0001,\n",
       "   'lf_recommender__max_iter': 30,\n",
       "   'lf_recommender__num_factors': 80,\n",
       "   'lf_recommender__reg_item_bias': 0.001,\n",
       "   'lf_recommender__reg_item_fact': 0.001,\n",
       "   'lf_recommender__reg_user_bias': 0.001,\n",
       "   'lf_recommender__reg_user_fact': 0.001},\n",
       "  {'lf_recommender__learning_rate': 0.0001,\n",
       "   'lf_recommender__max_iter': 30,\n",
       "   'lf_recommender__num_factors': 100,\n",
       "   'lf_recommender__reg_item_bias': 0.001,\n",
       "   'lf_recommender__reg_item_fact': 0.001,\n",
       "   'lf_recommender__reg_user_bias': 0.001,\n",
       "   'lf_recommender__reg_user_fact': 0.001},\n",
       "  {'lf_recommender__learning_rate': 0.001,\n",
       "   'lf_recommender__max_iter': 30,\n",
       "   'lf_recommender__num_factors': 40,\n",
       "   'lf_recommender__reg_item_bias': 0.001,\n",
       "   'lf_recommender__reg_item_fact': 0.001,\n",
       "   'lf_recommender__reg_user_bias': 0.001,\n",
       "   'lf_recommender__reg_user_fact': 0.001},\n",
       "  {'lf_recommender__learning_rate': 0.001,\n",
       "   'lf_recommender__max_iter': 30,\n",
       "   'lf_recommender__num_factors': 60,\n",
       "   'lf_recommender__reg_item_bias': 0.001,\n",
       "   'lf_recommender__reg_item_fact': 0.001,\n",
       "   'lf_recommender__reg_user_bias': 0.001,\n",
       "   'lf_recommender__reg_user_fact': 0.001},\n",
       "  {'lf_recommender__learning_rate': 0.001,\n",
       "   'lf_recommender__max_iter': 30,\n",
       "   'lf_recommender__num_factors': 80,\n",
       "   'lf_recommender__reg_item_bias': 0.001,\n",
       "   'lf_recommender__reg_item_fact': 0.001,\n",
       "   'lf_recommender__reg_user_bias': 0.001,\n",
       "   'lf_recommender__reg_user_fact': 0.001},\n",
       "  {'lf_recommender__learning_rate': 0.001,\n",
       "   'lf_recommender__max_iter': 30,\n",
       "   'lf_recommender__num_factors': 100,\n",
       "   'lf_recommender__reg_item_bias': 0.001,\n",
       "   'lf_recommender__reg_item_fact': 0.001,\n",
       "   'lf_recommender__reg_user_bias': 0.001,\n",
       "   'lf_recommender__reg_user_fact': 0.001},\n",
       "  {'lf_recommender__learning_rate': 0.01,\n",
       "   'lf_recommender__max_iter': 30,\n",
       "   'lf_recommender__num_factors': 40,\n",
       "   'lf_recommender__reg_item_bias': 0.001,\n",
       "   'lf_recommender__reg_item_fact': 0.001,\n",
       "   'lf_recommender__reg_user_bias': 0.001,\n",
       "   'lf_recommender__reg_user_fact': 0.001},\n",
       "  {'lf_recommender__learning_rate': 0.01,\n",
       "   'lf_recommender__max_iter': 30,\n",
       "   'lf_recommender__num_factors': 60,\n",
       "   'lf_recommender__reg_item_bias': 0.001,\n",
       "   'lf_recommender__reg_item_fact': 0.001,\n",
       "   'lf_recommender__reg_user_bias': 0.001,\n",
       "   'lf_recommender__reg_user_fact': 0.001},\n",
       "  {'lf_recommender__learning_rate': 0.01,\n",
       "   'lf_recommender__max_iter': 30,\n",
       "   'lf_recommender__num_factors': 80,\n",
       "   'lf_recommender__reg_item_bias': 0.001,\n",
       "   'lf_recommender__reg_item_fact': 0.001,\n",
       "   'lf_recommender__reg_user_bias': 0.001,\n",
       "   'lf_recommender__reg_user_fact': 0.001},\n",
       "  {'lf_recommender__learning_rate': 0.01,\n",
       "   'lf_recommender__max_iter': 30,\n",
       "   'lf_recommender__num_factors': 100,\n",
       "   'lf_recommender__reg_item_bias': 0.001,\n",
       "   'lf_recommender__reg_item_fact': 0.001,\n",
       "   'lf_recommender__reg_user_bias': 0.001,\n",
       "   'lf_recommender__reg_user_fact': 0.001},\n",
       "  {'lf_recommender__learning_rate': 0.0001,\n",
       "   'lf_recommender__max_iter': 30,\n",
       "   'lf_recommender__num_factors': 40,\n",
       "   'lf_recommender__reg_item_bias': 0.01,\n",
       "   'lf_recommender__reg_item_fact': 0.01,\n",
       "   'lf_recommender__reg_user_bias': 0.01,\n",
       "   'lf_recommender__reg_user_fact': 0.01},\n",
       "  {'lf_recommender__learning_rate': 0.0001,\n",
       "   'lf_recommender__max_iter': 30,\n",
       "   'lf_recommender__num_factors': 60,\n",
       "   'lf_recommender__reg_item_bias': 0.01,\n",
       "   'lf_recommender__reg_item_fact': 0.01,\n",
       "   'lf_recommender__reg_user_bias': 0.01,\n",
       "   'lf_recommender__reg_user_fact': 0.01},\n",
       "  {'lf_recommender__learning_rate': 0.0001,\n",
       "   'lf_recommender__max_iter': 30,\n",
       "   'lf_recommender__num_factors': 80,\n",
       "   'lf_recommender__reg_item_bias': 0.01,\n",
       "   'lf_recommender__reg_item_fact': 0.01,\n",
       "   'lf_recommender__reg_user_bias': 0.01,\n",
       "   'lf_recommender__reg_user_fact': 0.01},\n",
       "  {'lf_recommender__learning_rate': 0.0001,\n",
       "   'lf_recommender__max_iter': 30,\n",
       "   'lf_recommender__num_factors': 100,\n",
       "   'lf_recommender__reg_item_bias': 0.01,\n",
       "   'lf_recommender__reg_item_fact': 0.01,\n",
       "   'lf_recommender__reg_user_bias': 0.01,\n",
       "   'lf_recommender__reg_user_fact': 0.01},\n",
       "  {'lf_recommender__learning_rate': 0.001,\n",
       "   'lf_recommender__max_iter': 30,\n",
       "   'lf_recommender__num_factors': 40,\n",
       "   'lf_recommender__reg_item_bias': 0.01,\n",
       "   'lf_recommender__reg_item_fact': 0.01,\n",
       "   'lf_recommender__reg_user_bias': 0.01,\n",
       "   'lf_recommender__reg_user_fact': 0.01},\n",
       "  {'lf_recommender__learning_rate': 0.001,\n",
       "   'lf_recommender__max_iter': 30,\n",
       "   'lf_recommender__num_factors': 60,\n",
       "   'lf_recommender__reg_item_bias': 0.01,\n",
       "   'lf_recommender__reg_item_fact': 0.01,\n",
       "   'lf_recommender__reg_user_bias': 0.01,\n",
       "   'lf_recommender__reg_user_fact': 0.01},\n",
       "  {'lf_recommender__learning_rate': 0.001,\n",
       "   'lf_recommender__max_iter': 30,\n",
       "   'lf_recommender__num_factors': 80,\n",
       "   'lf_recommender__reg_item_bias': 0.01,\n",
       "   'lf_recommender__reg_item_fact': 0.01,\n",
       "   'lf_recommender__reg_user_bias': 0.01,\n",
       "   'lf_recommender__reg_user_fact': 0.01},\n",
       "  {'lf_recommender__learning_rate': 0.001,\n",
       "   'lf_recommender__max_iter': 30,\n",
       "   'lf_recommender__num_factors': 100,\n",
       "   'lf_recommender__reg_item_bias': 0.01,\n",
       "   'lf_recommender__reg_item_fact': 0.01,\n",
       "   'lf_recommender__reg_user_bias': 0.01,\n",
       "   'lf_recommender__reg_user_fact': 0.01},\n",
       "  {'lf_recommender__learning_rate': 0.01,\n",
       "   'lf_recommender__max_iter': 30,\n",
       "   'lf_recommender__num_factors': 40,\n",
       "   'lf_recommender__reg_item_bias': 0.01,\n",
       "   'lf_recommender__reg_item_fact': 0.01,\n",
       "   'lf_recommender__reg_user_bias': 0.01,\n",
       "   'lf_recommender__reg_user_fact': 0.01},\n",
       "  {'lf_recommender__learning_rate': 0.01,\n",
       "   'lf_recommender__max_iter': 30,\n",
       "   'lf_recommender__num_factors': 60,\n",
       "   'lf_recommender__reg_item_bias': 0.01,\n",
       "   'lf_recommender__reg_item_fact': 0.01,\n",
       "   'lf_recommender__reg_user_bias': 0.01,\n",
       "   'lf_recommender__reg_user_fact': 0.01},\n",
       "  {'lf_recommender__learning_rate': 0.01,\n",
       "   'lf_recommender__max_iter': 30,\n",
       "   'lf_recommender__num_factors': 80,\n",
       "   'lf_recommender__reg_item_bias': 0.01,\n",
       "   'lf_recommender__reg_item_fact': 0.01,\n",
       "   'lf_recommender__reg_user_bias': 0.01,\n",
       "   'lf_recommender__reg_user_fact': 0.01},\n",
       "  {'lf_recommender__learning_rate': 0.01,\n",
       "   'lf_recommender__max_iter': 30,\n",
       "   'lf_recommender__num_factors': 100,\n",
       "   'lf_recommender__reg_item_bias': 0.01,\n",
       "   'lf_recommender__reg_item_fact': 0.01,\n",
       "   'lf_recommender__reg_user_bias': 0.01,\n",
       "   'lf_recommender__reg_user_fact': 0.01},\n",
       "  {'lf_recommender__learning_rate': 0.0001,\n",
       "   'lf_recommender__max_iter': 30,\n",
       "   'lf_recommender__num_factors': 40,\n",
       "   'lf_recommender__reg_item_bias': 0.1,\n",
       "   'lf_recommender__reg_item_fact': 0.1,\n",
       "   'lf_recommender__reg_user_bias': 0.1,\n",
       "   'lf_recommender__reg_user_fact': 0.1},\n",
       "  {'lf_recommender__learning_rate': 0.0001,\n",
       "   'lf_recommender__max_iter': 30,\n",
       "   'lf_recommender__num_factors': 60,\n",
       "   'lf_recommender__reg_item_bias': 0.1,\n",
       "   'lf_recommender__reg_item_fact': 0.1,\n",
       "   'lf_recommender__reg_user_bias': 0.1,\n",
       "   'lf_recommender__reg_user_fact': 0.1},\n",
       "  {'lf_recommender__learning_rate': 0.0001,\n",
       "   'lf_recommender__max_iter': 30,\n",
       "   'lf_recommender__num_factors': 80,\n",
       "   'lf_recommender__reg_item_bias': 0.1,\n",
       "   'lf_recommender__reg_item_fact': 0.1,\n",
       "   'lf_recommender__reg_user_bias': 0.1,\n",
       "   'lf_recommender__reg_user_fact': 0.1},\n",
       "  {'lf_recommender__learning_rate': 0.0001,\n",
       "   'lf_recommender__max_iter': 30,\n",
       "   'lf_recommender__num_factors': 100,\n",
       "   'lf_recommender__reg_item_bias': 0.1,\n",
       "   'lf_recommender__reg_item_fact': 0.1,\n",
       "   'lf_recommender__reg_user_bias': 0.1,\n",
       "   'lf_recommender__reg_user_fact': 0.1},\n",
       "  {'lf_recommender__learning_rate': 0.001,\n",
       "   'lf_recommender__max_iter': 30,\n",
       "   'lf_recommender__num_factors': 40,\n",
       "   'lf_recommender__reg_item_bias': 0.1,\n",
       "   'lf_recommender__reg_item_fact': 0.1,\n",
       "   'lf_recommender__reg_user_bias': 0.1,\n",
       "   'lf_recommender__reg_user_fact': 0.1},\n",
       "  {'lf_recommender__learning_rate': 0.001,\n",
       "   'lf_recommender__max_iter': 30,\n",
       "   'lf_recommender__num_factors': 60,\n",
       "   'lf_recommender__reg_item_bias': 0.1,\n",
       "   'lf_recommender__reg_item_fact': 0.1,\n",
       "   'lf_recommender__reg_user_bias': 0.1,\n",
       "   'lf_recommender__reg_user_fact': 0.1},\n",
       "  {'lf_recommender__learning_rate': 0.001,\n",
       "   'lf_recommender__max_iter': 30,\n",
       "   'lf_recommender__num_factors': 80,\n",
       "   'lf_recommender__reg_item_bias': 0.1,\n",
       "   'lf_recommender__reg_item_fact': 0.1,\n",
       "   'lf_recommender__reg_user_bias': 0.1,\n",
       "   'lf_recommender__reg_user_fact': 0.1},\n",
       "  {'lf_recommender__learning_rate': 0.001,\n",
       "   'lf_recommender__max_iter': 30,\n",
       "   'lf_recommender__num_factors': 100,\n",
       "   'lf_recommender__reg_item_bias': 0.1,\n",
       "   'lf_recommender__reg_item_fact': 0.1,\n",
       "   'lf_recommender__reg_user_bias': 0.1,\n",
       "   'lf_recommender__reg_user_fact': 0.1},\n",
       "  {'lf_recommender__learning_rate': 0.01,\n",
       "   'lf_recommender__max_iter': 30,\n",
       "   'lf_recommender__num_factors': 40,\n",
       "   'lf_recommender__reg_item_bias': 0.1,\n",
       "   'lf_recommender__reg_item_fact': 0.1,\n",
       "   'lf_recommender__reg_user_bias': 0.1,\n",
       "   'lf_recommender__reg_user_fact': 0.1},\n",
       "  {'lf_recommender__learning_rate': 0.01,\n",
       "   'lf_recommender__max_iter': 30,\n",
       "   'lf_recommender__num_factors': 60,\n",
       "   'lf_recommender__reg_item_bias': 0.1,\n",
       "   'lf_recommender__reg_item_fact': 0.1,\n",
       "   'lf_recommender__reg_user_bias': 0.1,\n",
       "   'lf_recommender__reg_user_fact': 0.1},\n",
       "  {'lf_recommender__learning_rate': 0.01,\n",
       "   'lf_recommender__max_iter': 30,\n",
       "   'lf_recommender__num_factors': 80,\n",
       "   'lf_recommender__reg_item_bias': 0.1,\n",
       "   'lf_recommender__reg_item_fact': 0.1,\n",
       "   'lf_recommender__reg_user_bias': 0.1,\n",
       "   'lf_recommender__reg_user_fact': 0.1},\n",
       "  {'lf_recommender__learning_rate': 0.01,\n",
       "   'lf_recommender__max_iter': 30,\n",
       "   'lf_recommender__num_factors': 100,\n",
       "   'lf_recommender__reg_item_bias': 0.1,\n",
       "   'lf_recommender__reg_item_fact': 0.1,\n",
       "   'lf_recommender__reg_user_bias': 0.1,\n",
       "   'lf_recommender__reg_user_fact': 0.1},\n",
       "  {'lf_recommender__learning_rate': 0.0001,\n",
       "   'lf_recommender__max_iter': 30,\n",
       "   'lf_recommender__num_factors': 40,\n",
       "   'lf_recommender__reg_item_bias': 1.0,\n",
       "   'lf_recommender__reg_item_fact': 1.0,\n",
       "   'lf_recommender__reg_user_bias': 1.0,\n",
       "   'lf_recommender__reg_user_fact': 1.0},\n",
       "  {'lf_recommender__learning_rate': 0.0001,\n",
       "   'lf_recommender__max_iter': 30,\n",
       "   'lf_recommender__num_factors': 60,\n",
       "   'lf_recommender__reg_item_bias': 1.0,\n",
       "   'lf_recommender__reg_item_fact': 1.0,\n",
       "   'lf_recommender__reg_user_bias': 1.0,\n",
       "   'lf_recommender__reg_user_fact': 1.0},\n",
       "  {'lf_recommender__learning_rate': 0.0001,\n",
       "   'lf_recommender__max_iter': 30,\n",
       "   'lf_recommender__num_factors': 80,\n",
       "   'lf_recommender__reg_item_bias': 1.0,\n",
       "   'lf_recommender__reg_item_fact': 1.0,\n",
       "   'lf_recommender__reg_user_bias': 1.0,\n",
       "   'lf_recommender__reg_user_fact': 1.0},\n",
       "  {'lf_recommender__learning_rate': 0.0001,\n",
       "   'lf_recommender__max_iter': 30,\n",
       "   'lf_recommender__num_factors': 100,\n",
       "   'lf_recommender__reg_item_bias': 1.0,\n",
       "   'lf_recommender__reg_item_fact': 1.0,\n",
       "   'lf_recommender__reg_user_bias': 1.0,\n",
       "   'lf_recommender__reg_user_fact': 1.0},\n",
       "  {'lf_recommender__learning_rate': 0.001,\n",
       "   'lf_recommender__max_iter': 30,\n",
       "   'lf_recommender__num_factors': 40,\n",
       "   'lf_recommender__reg_item_bias': 1.0,\n",
       "   'lf_recommender__reg_item_fact': 1.0,\n",
       "   'lf_recommender__reg_user_bias': 1.0,\n",
       "   'lf_recommender__reg_user_fact': 1.0},\n",
       "  {'lf_recommender__learning_rate': 0.001,\n",
       "   'lf_recommender__max_iter': 30,\n",
       "   'lf_recommender__num_factors': 60,\n",
       "   'lf_recommender__reg_item_bias': 1.0,\n",
       "   'lf_recommender__reg_item_fact': 1.0,\n",
       "   'lf_recommender__reg_user_bias': 1.0,\n",
       "   'lf_recommender__reg_user_fact': 1.0},\n",
       "  {'lf_recommender__learning_rate': 0.001,\n",
       "   'lf_recommender__max_iter': 30,\n",
       "   'lf_recommender__num_factors': 80,\n",
       "   'lf_recommender__reg_item_bias': 1.0,\n",
       "   'lf_recommender__reg_item_fact': 1.0,\n",
       "   'lf_recommender__reg_user_bias': 1.0,\n",
       "   'lf_recommender__reg_user_fact': 1.0},\n",
       "  {'lf_recommender__learning_rate': 0.001,\n",
       "   'lf_recommender__max_iter': 30,\n",
       "   'lf_recommender__num_factors': 100,\n",
       "   'lf_recommender__reg_item_bias': 1.0,\n",
       "   'lf_recommender__reg_item_fact': 1.0,\n",
       "   'lf_recommender__reg_user_bias': 1.0,\n",
       "   'lf_recommender__reg_user_fact': 1.0},\n",
       "  {'lf_recommender__learning_rate': 0.01,\n",
       "   'lf_recommender__max_iter': 30,\n",
       "   'lf_recommender__num_factors': 40,\n",
       "   'lf_recommender__reg_item_bias': 1.0,\n",
       "   'lf_recommender__reg_item_fact': 1.0,\n",
       "   'lf_recommender__reg_user_bias': 1.0,\n",
       "   'lf_recommender__reg_user_fact': 1.0},\n",
       "  {'lf_recommender__learning_rate': 0.01,\n",
       "   'lf_recommender__max_iter': 30,\n",
       "   'lf_recommender__num_factors': 60,\n",
       "   'lf_recommender__reg_item_bias': 1.0,\n",
       "   'lf_recommender__reg_item_fact': 1.0,\n",
       "   'lf_recommender__reg_user_bias': 1.0,\n",
       "   'lf_recommender__reg_user_fact': 1.0},\n",
       "  {'lf_recommender__learning_rate': 0.01,\n",
       "   'lf_recommender__max_iter': 30,\n",
       "   'lf_recommender__num_factors': 80,\n",
       "   'lf_recommender__reg_item_bias': 1.0,\n",
       "   'lf_recommender__reg_item_fact': 1.0,\n",
       "   'lf_recommender__reg_user_bias': 1.0,\n",
       "   'lf_recommender__reg_user_fact': 1.0},\n",
       "  {'lf_recommender__learning_rate': 0.01,\n",
       "   'lf_recommender__max_iter': 30,\n",
       "   'lf_recommender__num_factors': 100,\n",
       "   'lf_recommender__reg_item_bias': 1.0,\n",
       "   'lf_recommender__reg_item_fact': 1.0,\n",
       "   'lf_recommender__reg_user_bias': 1.0,\n",
       "   'lf_recommender__reg_user_fact': 1.0}),\n",
       " 'rank_test_score': array([34, 41, 42, 48, 25, 32, 30, 21,  3,  2,  5,  6, 38, 40, 36, 46, 31,\n",
       "        28, 23, 24,  7,  8,  1,  4, 43, 44, 39, 33, 27, 29, 26, 22, 11,  9,\n",
       "        12, 10, 37, 47, 35, 45, 19, 18, 17, 20, 14, 15, 16, 13], dtype=int32),\n",
       " 'split0_test_score': array([-1.65, -1.78, -1.76, -2.22, -0.87, -0.97, -0.8 , -0.76,  0.83,\n",
       "         0.84,  0.82,  0.84, -1.67, -1.95, -1.83, -2.02, -0.88, -0.81,\n",
       "        -0.68, -0.77,  0.82,  0.82,  0.84,  0.83, -1.99, -1.75, -1.96,\n",
       "        -1.73, -0.94, -0.93, -0.82, -0.7 ,  0.81,  0.81,  0.81,  0.81,\n",
       "        -1.79, -2.  , -1.76, -2.05, -0.56, -0.54, -0.54, -0.56,  0.61,\n",
       "         0.59,  0.6 ,  0.62]),\n",
       " 'split0_train_score': array([-1.65, -1.78, -1.76, -2.22, -0.87, -0.97, -0.8 , -0.76,  0.83,\n",
       "         0.84,  0.82,  0.84, -1.67, -1.95, -1.83, -2.02, -0.88, -0.81,\n",
       "        -0.68, -0.77,  0.82,  0.82,  0.84,  0.83, -1.99, -1.75, -1.96,\n",
       "        -1.73, -0.94, -0.93, -0.82, -0.7 ,  0.81,  0.81,  0.81,  0.81,\n",
       "        -1.79, -2.  , -1.76, -2.05, -0.56, -0.54, -0.54, -0.56,  0.61,\n",
       "         0.59,  0.6 ,  0.62]),\n",
       " 'split1_test_score': array([-1.86, -2.04, -2.06, -1.9 , -0.81, -0.94, -0.93, -0.72,  0.83,\n",
       "         0.83,  0.84,  0.82, -2.07, -1.87, -1.85, -2.  , -0.85, -0.89,\n",
       "        -0.89, -0.85,  0.84,  0.82,  0.83,  0.83, -1.87, -2.25, -1.8 ,\n",
       "        -1.65, -0.75, -0.77, -0.87, -0.83,  0.82,  0.82,  0.81,  0.82,\n",
       "        -1.92, -2.05, -1.92, -1.98, -0.69, -0.67, -0.63, -0.72,  0.61,\n",
       "         0.63,  0.61,  0.62]),\n",
       " 'split1_train_score': array([-1.86, -2.04, -2.06, -1.9 , -0.81, -0.94, -0.93, -0.72,  0.83,\n",
       "         0.83,  0.84,  0.82, -2.07, -1.87, -1.85, -2.  , -0.85, -0.89,\n",
       "        -0.89, -0.85,  0.84,  0.82,  0.83,  0.83, -1.87, -2.25, -1.8 ,\n",
       "        -1.65, -0.75, -0.77, -0.87, -0.83,  0.82,  0.82,  0.81,  0.82,\n",
       "        -1.92, -2.05, -1.92, -1.98, -0.69, -0.67, -0.63, -0.72,  0.61,\n",
       "         0.63,  0.61,  0.62]),\n",
       " 'std_fit_time': array([ 0.02,  0.  ,  0.04,  0.02,  0.34,  0.12,  0.08,  0.06,  0.  ,\n",
       "         0.  ,  0.05,  0.15,  0.04,  0.02,  0.04,  0.05,  0.07,  0.11,\n",
       "         0.1 ,  0.05,  0.04,  0.13,  0.02,  0.15,  0.04,  0.03,  0.01,\n",
       "         0.05,  0.18,  0.7 ,  0.05,  0.42,  0.03,  0.2 ,  0.06,  0.09,\n",
       "         0.  ,  0.01,  0.03,  0.03,  0.12,  0.19,  0.12,  0.03,  0.3 ,\n",
       "         0.04,  0.11,  0.68]),\n",
       " 'std_score_time': array([ 0.01,  0.  ,  0.  ,  0.  ,  0.01,  0.01,  0.  ,  0.  ,  0.01,\n",
       "         0.01,  0.  ,  0.  ,  0.  ,  0.  ,  0.  ,  0.  ,  0.  ,  0.  ,\n",
       "         0.  ,  0.01,  0.  ,  0.  ,  0.01,  0.  ,  0.  ,  0.  ,  0.  ,\n",
       "         0.  ,  0.  ,  0.01,  0.01,  0.  ,  0.  ,  0.01,  0.  ,  0.  ,\n",
       "         0.  ,  0.01,  0.  ,  0.  ,  0.  ,  0.  ,  0.  ,  0.01,  0.  ,\n",
       "         0.  ,  0.01,  0.  ]),\n",
       " 'std_test_score': array([ 0.11,  0.13,  0.15,  0.16,  0.03,  0.01,  0.07,  0.02,  0.  ,\n",
       "         0.  ,  0.01,  0.01,  0.2 ,  0.04,  0.01,  0.01,  0.01,  0.04,\n",
       "         0.1 ,  0.04,  0.01,  0.  ,  0.  ,  0.  ,  0.06,  0.25,  0.08,\n",
       "         0.04,  0.09,  0.08,  0.02,  0.07,  0.  ,  0.  ,  0.  ,  0.  ,\n",
       "         0.07,  0.03,  0.08,  0.04,  0.07,  0.07,  0.05,  0.08,  0.  ,\n",
       "         0.02,  0.01,  0.  ]),\n",
       " 'std_train_score': array([ 0.11,  0.13,  0.15,  0.16,  0.03,  0.01,  0.07,  0.02,  0.  ,\n",
       "         0.  ,  0.01,  0.01,  0.2 ,  0.04,  0.01,  0.01,  0.01,  0.04,\n",
       "         0.1 ,  0.04,  0.01,  0.  ,  0.  ,  0.  ,  0.06,  0.25,  0.08,\n",
       "         0.04,  0.09,  0.08,  0.02,  0.07,  0.  ,  0.  ,  0.  ,  0.  ,\n",
       "         0.07,  0.03,  0.08,  0.04,  0.07,  0.07,  0.05,  0.08,  0.  ,\n",
       "         0.02,  0.01,  0.  ])}"
      ]
     },
     "execution_count": 12,
     "metadata": {},
     "output_type": "execute_result"
    }
   ],
   "source": [
    "grid_search.cv_results_"
   ]
  },
  {
   "cell_type": "markdown",
   "metadata": {},
   "source": [
    "## Retrain optimal model on test set\n",
    "Next, we retrain the best estimator (estimator with optimal parameters) found by our grid search. Here, we increase $max\\_iter$ to 100 and decrease the convergence tolerance of our SGD to 0.001."
   ]
  },
  {
   "cell_type": "code",
   "execution_count": 20,
   "metadata": {
    "collapsed": false
   },
   "outputs": [
    {
     "data": {
      "text/plain": [
       "Pipeline(steps=[('ratings_extractor', RatingsExtractor()), ('lf_recommender', LatentFactorRecSys(learning_rate=0.01, max_iter=100, num_factors=80,\n",
       "          reg_item_bias=0.01, reg_item_fact=0.01, reg_user_bias=0.01,\n",
       "          reg_user_fact=0.01, tolerance=0.001))])"
      ]
     },
     "execution_count": 20,
     "metadata": {},
     "output_type": "execute_result"
    }
   ],
   "source": [
    "grid_search.best_estimator_\n",
    "#grid_search.best_estimator_.get_params()\n",
    "grid_search.best_estimator_.set_params(lf_recommender__max_iter=100)\n",
    "grid_search.best_estimator_.set_params(lf_recommender__tolerance=0.001)"
   ]
  },
  {
   "cell_type": "code",
   "execution_count": 21,
   "metadata": {
    "collapsed": false
   },
   "outputs": [
    {
     "name": "stdout",
     "output_type": "stream",
     "text": [
      "Pipeline(steps=[('ratings_extractor', RatingsExtractor()), ('lf_recommender', LatentFactorRecSys(learning_rate=0.01, max_iter=100, num_factors=80,\n",
      "          reg_item_bias=0.01, reg_item_fact=0.01, reg_user_bias=0.01,\n",
      "          reg_user_fact=0.01, tolerance=0.001))])\n",
      "Retraining optimal model ...\n",
      "converged at iter = 77, rmse = 0.142825\n",
      "done in 397.656s.\n"
     ]
    }
   ],
   "source": [
    "rec = grid_search.best_estimator_\n",
    "print (rec)\n",
    "\n",
    "df_train, df_test = train_test_split_df(df_ratings, test_size=10)\n",
    "\n",
    "print ('Retraining optimal model ...')\n",
    "t0 = time()\n",
    "rec.fit_transform(df_train)\n",
    "print(\"done in %0.3fs.\" % (time() - t0))"
   ]
  },
  {
   "cell_type": "code",
   "execution_count": 22,
   "metadata": {
    "collapsed": false
   },
   "outputs": [
    {
     "data": {
      "text/plain": [
       "<matplotlib.text.Text at 0x7fb36a66f438>"
      ]
     },
     "execution_count": 22,
     "metadata": {},
     "output_type": "execute_result"
    },
    {
     "data": {
      "image/png": "[encoded data removed]",
      "text/plain": [
       "<matplotlib.figure.Figure at 0x7fb364d3f908>"
      ]
     },
     "metadata": {},
     "output_type": "display_data"
    }
   ],
   "source": [
    "#conv_curve = rec.steps[1][1].get_convergence_curve()\n",
    "conv_curve = rec.named_steps['lf_recommender'].get_convergence_curve()\n",
    "iter_index,rmse = tuple(zip(*conv_curve))\n",
    "\n",
    "plt.plot(iter_index,rmse, '-ok')\n",
    "plt.xlabel('iteration')\n",
    "plt.ylabel('RMSE')"
   ]
  },
  {
   "cell_type": "markdown",
   "metadata": {},
   "source": [
    "## RMSE on test set\n",
    "Next, we calculate the root mean square error (RMSE) on our test set."
   ]
  },
  {
   "cell_type": "code",
   "execution_count": 23,
   "metadata": {
    "collapsed": false
   },
   "outputs": [
    {
     "data": {
      "text/plain": [
       "\"ratings_extractor = RatingsExtractor()\\ntest_ratings_matrix = ratings_extractor.transform(df_test)\\nrow_col_indices = ratings_extractor.get_row_col_indices(df_test)\\ntest_ratings = [test_ratings_matrix[r,c] for r,c in row_col_indices]\\n\\npred = rec.named_steps['lf_recommender'].predict(row_col_indices)\\n\\nrmse = np.sqrt(mean_squared_error(test_ratings, pred))\\nprint (rmse)\""
      ]
     },
     "execution_count": 23,
     "metadata": {},
     "output_type": "execute_result"
    }
   ],
   "source": [
    "\"\"\"ratings_extractor = RatingsExtractor()\n",
    "test_ratings_matrix = ratings_extractor.transform(df_test)\n",
    "row_col_indices = ratings_extractor.get_row_col_indices(df_test)\n",
    "test_ratings = [test_ratings_matrix[r,c] for r,c in row_col_indices]\n",
    "\n",
    "pred = rec.named_steps['lf_recommender'].predict(row_col_indices)\n",
    "\n",
    "rmse = np.sqrt(mean_squared_error(test_ratings, pred))\n",
    "print (rmse)\"\"\""
   ]
  },
  {
   "cell_type": "code",
   "execution_count": 24,
   "metadata": {
    "collapsed": false
   },
   "outputs": [],
   "source": [
    "test_ratings = df_test['rating'].values\n",
    "itemid_userid_array = [tuple(x) for x in df_test[['itemId', 'userId']]\n",
    "                       .to_records(index=False)]"
   ]
  },
  {
   "cell_type": "code",
   "execution_count": 25,
   "metadata": {
    "collapsed": false
   },
   "outputs": [
    {
     "data": {
      "text/plain": [
       "{'lf_recommender': LatentFactorRecSys(learning_rate=0.001, max_iter=10, num_factors=20,\n",
       "           reg_item_bias=0.1, reg_item_fact=0.1, reg_user_bias=0.1,\n",
       "           reg_user_fact=0.1, tolerance=0.01),\n",
       " 'ratings_extractor': RatingsExtractor()}"
      ]
     },
     "execution_count": 25,
     "metadata": {},
     "output_type": "execute_result"
    }
   ],
   "source": [
    "rec_pipeline.named_steps"
   ]
  },
  {
   "cell_type": "code",
   "execution_count": 26,
   "metadata": {
    "collapsed": false
   },
   "outputs": [
    {
     "name": "stdout",
     "output_type": "stream",
     "text": [
      "0.968712576811\n"
     ]
    }
   ],
   "source": [
    "lf_recommender = rec.named_steps['lf_recommender']\n",
    "ratings_extractor = rec.named_steps['ratings_extractor']\n",
    "#ratings_extractor = RatingsExtractor()\n",
    "#ratings_extractor.transform(df_ratings)\n",
    "pred = lf_recommender.predict(itemid_userid_array, ratings_extractor)\n",
    "rmse = np.sqrt(mean_squared_error(test_ratings, pred))\n",
    "print (rmse)"
   ]
  },
  {
   "cell_type": "markdown",
   "metadata": {},
   "source": [
    "The **RMSE of 0.97** looks pretty good, given that we didn't perform exhaustive search for the best model parameters."
   ]
  },
  {
   "cell_type": "code",
   "execution_count": 310,
   "metadata": {
    "collapsed": false
   },
   "outputs": [],
   "source": [
    "# Save trained model\n",
    "with open('lf_movie_recommender.pkl', 'wb') as handle:\n",
    "    pickle.dump(rec, handle, protocol=pickle.HIGHEST_PROTOCOL)\n",
    "\n",
    "# Load trained model\n",
    "#with open('lf_movie_recommender.pkl', 'rb') as handle:\n",
    "#    rec = pickle.load(handle)    "
   ]
  },
  {
   "cell_type": "code",
   "execution_count": null,
   "metadata": {
    "collapsed": true
   },
   "outputs": [],
   "source": []
  },
  {
   "cell_type": "markdown",
   "metadata": {},
   "source": [
    "## Compute Recommendations"
   ]
  },
  {
   "cell_type": "markdown",
   "metadata": {},
   "source": [
    "### Helper functions: Filter similar movies based on cosine distance as a similarity metric"
   ]
  },
  {
   "cell_type": "code",
   "execution_count": 59,
   "metadata": {
    "collapsed": false
   },
   "outputs": [
    {
     "data": {
      "text/plain": [
       "array([[ 0.  ,  0.9 ,  0.89, ...,  0.71,  0.69,  0.83],\n",
       "       [ 0.9 ,  0.  ,  1.09, ...,  1.  ,  0.89,  0.99],\n",
       "       [ 0.89,  1.09,  0.  , ...,  0.92,  0.82,  0.89],\n",
       "       ..., \n",
       "       [ 0.71,  1.  ,  0.92, ...,  0.  ,  0.46,  0.36],\n",
       "       [ 0.69,  0.89,  0.82, ...,  0.46,  0.  ,  0.31],\n",
       "       [ 0.83,  0.99,  0.89, ...,  0.36,  0.31,  0.  ]])"
      ]
     },
     "execution_count": 59,
     "metadata": {},
     "output_type": "execute_result"
    }
   ],
   "source": [
    "def cosine_similarity(item_factors):\n",
    "    cos_sim = np.matmul(item_factors, item_factors.transpose())\n",
    "    norm = np.diagonal(cos_sim)\n",
    "    norm_mat = np.sqrt(np.outer(norm, norm))\n",
    "    cos_sim = np.divide(cos_sim, norm_mat)\n",
    "    return cos_sim\n",
    "\n",
    "def cosine_distance(item_factors):\n",
    "    return 1 - cosine_similarity(item_factors)\n",
    "\n",
    "cos_dist = cosine_distance(lf_recommender.Q)"
   ]
  },
  {
   "cell_type": "code",
   "execution_count": 199,
   "metadata": {
    "collapsed": false
   },
   "outputs": [
    {
     "data": {
      "text/plain": [
       "\"num_recs = 5       \\nitemid = 1\\nmovie_name = get_movie_name(df_movies, itemid)\\nprint ('%s ==>' %movie_name)\\nget_similar_items(itemid, num_recs)\""
      ]
     },
     "execution_count": 199,
     "metadata": {},
     "output_type": "execute_result"
    }
   ],
   "source": [
    "def get_movie_name(df_movies, itemid):\n",
    "    movie_name = df_movies[df_movies['movieId']==itemid]['title'].values[0]\n",
    "    return movie_name\n",
    "\n",
    "\n",
    "def get_similar_items(itemid, num_recs):\n",
    "    itemindex = ratings_extractor.item2index_dict[itemid]\n",
    "    dists = cos_dist[itemindex,:]\n",
    "    indices = dists.argsort()[1:num_recs+1]\n",
    "\n",
    "    similar_item_ids = [ratings_extractor.index2item_dict[i] for i in indices]\n",
    "        \n",
    "    similar_item_names = []\n",
    "    for itemid in similar_item_ids:\n",
    "        similar_item_names.append(get_movie_name(df_movies, itemid))\n",
    "        \n",
    "    return similar_item_names\n",
    "        \n",
    "    \n",
    "\"\"\"num_recs = 5       \n",
    "itemid = 1\n",
    "movie_name = get_movie_name(df_movies, itemid)\n",
    "print ('%s ==>' %movie_name)\n",
    "get_similar_items(itemid, num_recs)\"\"\""
   ]
  },
  {
   "cell_type": "markdown",
   "metadata": {},
   "source": [
    "### Helper functions: Retrieve IMDB ID given a movie title\n",
    "IMDB ID is used to get movie poster from [themoviedb.org API](!https://www.themoviedb.org/documentation/api)."
   ]
  },
  {
   "cell_type": "code",
   "execution_count": 245,
   "metadata": {
    "collapsed": false
   },
   "outputs": [
    {
     "data": {
      "text/plain": [
       "'Toy Story'"
      ]
     },
     "execution_count": 245,
     "metadata": {},
     "output_type": "execute_result"
    }
   ],
   "source": [
    "def strip_year(movie_name):\n",
    "    movie_name = re.sub(r'\\([^)]*\\)', '', movie_name).strip()\n",
    "\n",
    "    return movie_name\n",
    "\n",
    "\n",
    "def imdb_id_from_title(title):\n",
    "    title = strip_year(title)\n",
    "    \n",
    "    pattern = 'http://www.imdb.com/xml/find?json=1&nr=1&tt=on&q={movie_title}'\n",
    "    url = pattern.format(movie_title=urllib.parse.quote_plus(title))\n",
    "    r = requests.get(url)\n",
    "    res = r.json()\n",
    "    # sections in descending order or preference\n",
    "    for section in ['popular','exact','substring']:\n",
    "        key = 'title_' + section \n",
    "        if key in res:\n",
    "            return res[key][0]['id']\n",
    "        \n",
    "        \n",
    "\"\"\"strip_year('Toy Story (1995)')\"\"\"\n",
    "\"\"\"imdb_id_from_title('Toy Story (1995)')\"\"\""
   ]
  },
  {
   "cell_type": "markdown",
   "metadata": {},
   "source": [
    "### Helper functions: Display movie posters"
   ]
  },
  {
   "cell_type": "code",
   "execution_count": 261,
   "metadata": {
    "collapsed": true
   },
   "outputs": [],
   "source": [
    "CONFIG_PATTERN = 'http://api.themoviedb.org/3/configuration?api_key={key}'\n",
    "KEY = 'cd3fbcc9cb70affd9a68b0951b3d0997'"
   ]
  },
  {
   "cell_type": "code",
   "execution_count": 262,
   "metadata": {
    "collapsed": true
   },
   "outputs": [],
   "source": [
    "def size_str_to_int(x):\n",
    "    return float(\"inf\") if x == 'original' else int(x[1:])"
   ]
  },
  {
   "cell_type": "code",
   "execution_count": 263,
   "metadata": {
    "collapsed": true
   },
   "outputs": [],
   "source": [
    "url = CONFIG_PATTERN.format(key=KEY)\n",
    "r = requests.get(url)\n",
    "config = r.json()\n",
    "\n",
    "base_url = config['images']['base_url']\n",
    "sizes = config['images']['poster_sizes']\n",
    "max_size = max(sizes, key=size_str_to_int)"
   ]
  },
  {
   "cell_type": "code",
   "execution_count": 291,
   "metadata": {
    "collapsed": false
   },
   "outputs": [
    {
     "data": {
      "text/plain": [
       "\"movie_name = 'Toy Story'    \\nget_poster(movie_name)\""
      ]
     },
     "execution_count": 291,
     "metadata": {},
     "output_type": "execute_result"
    }
   ],
   "source": [
    "def get_poster_url(movie_name):\n",
    "    imdb_id = imdb_id_from_title(movie_name)\n",
    "\n",
    "    IMG_PATTERN = 'http://api.themoviedb.org/3/movie/{imdbid}/images?api_key={key}' \n",
    "    r = requests.get(IMG_PATTERN.format(key=KEY,imdbid=imdb_id))\n",
    "    api_response = r.json()\n",
    "    \n",
    "    poster = api_response['posters'][0] # Get the best rated poster\n",
    "    rel_path = poster['file_path']\n",
    "    poster_url = \"{0}{1}{2}\".format(base_url, max_size, rel_path)\n",
    "    return poster_url\n",
    "\n",
    "\n",
    "\"\"\"movie_name = 'Toy Story'    \n",
    "get_poster(movie_name)\"\"\""
   ]
  },
  {
   "cell_type": "markdown",
   "metadata": {},
   "source": [
    "## Display Recommendations"
   ]
  },
  {
   "cell_type": "code",
   "execution_count": 303,
   "metadata": {
    "collapsed": false
   },
   "outputs": [
    {
     "data": {
      "text/plain": [
       "'movieid = 1\\ndisplay_rec_movies(movieid)'"
      ]
     },
     "execution_count": 303,
     "metadata": {},
     "output_type": "execute_result"
    }
   ],
   "source": [
    "# see https://stackoverflow.com/questions/19471814/display-multiple-images-in-one-ipython-notebook-cell\n",
    "def make_html(image_url):\n",
    "    return \"<img style='width: 120px; margin: 0px; float: left; \\\n",
    "    border: 1px solid black;' src='%s' />\" % image_url\n",
    "\n",
    "\n",
    "def display_rec_movies(movieid, num_recs):\n",
    "    movie_name = get_movie_name(df_movies, movieid)\n",
    "    poster_url = get_poster_url(movie_name)\n",
    "    \n",
    "    print ('Input movie:')\n",
    "    display(HTML(make_html(poster_url)))\n",
    "    \n",
    "    recommended_item_names = get_similar_items(movieid, num_recs)\n",
    "    \n",
    "    print ('Recommended movies: ')\n",
    "    imagesList = ''\n",
    "    for movie_name in recommended_item_names:\n",
    "        poster_url = get_poster_url(movie_name)\n",
    "        imagesList += make_html(poster_url)\n",
    "    display(HTML(imagesList))\n",
    "\n",
    "    \n",
    "\"\"\"movieid = 1\n",
    "display_rec_movies(movieid)\"\"\""
   ]
  },
  {
   "cell_type": "code",
   "execution_count": 304,
   "metadata": {
    "collapsed": false
   },
   "outputs": [
    {
     "name": "stdout",
     "output_type": "stream",
     "text": [
      "Input movie:\n"
     ]
    },
    {
     "data": {
      "text/html": [
       "<img style='width: 120px; margin: 0px; float: left;     border: 1px solid black;' src='http://image.tmdb.org/t/p/original/uMZqKhT4YA6mqo2yczoznv7IDmv.jpg' />"
      ],
      "text/plain": [
       "<IPython.core.display.HTML object>"
      ]
     },
     "metadata": {},
     "output_type": "display_data"
    },
    {
     "name": "stdout",
     "output_type": "stream",
     "text": [
      "Recommended movies: \n"
     ]
    },
    {
     "data": {
      "text/html": [
       "<img style='width: 120px; margin: 0px; float: left;     border: 1px solid black;' src='http://image.tmdb.org/t/p/original/kuTPkbQmHxBHsxaKMUL1kUchhdE.jpg' /><img style='width: 120px; margin: 0px; float: left;     border: 1px solid black;' src='http://image.tmdb.org/t/p/original/cxcsBwMvrSdUDjx527YWwhZYRZX.jpg' /><img style='width: 120px; margin: 0px; float: left;     border: 1px solid black;' src='http://image.tmdb.org/t/p/original/ha3niQHexpnQgFgK8SNnrtpctv.jpg' /><img style='width: 120px; margin: 0px; float: left;     border: 1px solid black;' src='http://image.tmdb.org/t/p/original/AqYmOBxLjASrj5UtybIh7Axyv77.jpg' /><img style='width: 120px; margin: 0px; float: left;     border: 1px solid black;' src='http://image.tmdb.org/t/p/original/3D4XNaaBZcHajoA6hcaeu1NLWxf.jpg' />"
      ],
      "text/plain": [
       "<IPython.core.display.HTML object>"
      ]
     },
     "metadata": {},
     "output_type": "display_data"
    },
    {
     "name": "stdout",
     "output_type": "stream",
     "text": [
      "\n",
      "\n",
      "\n",
      "Input movie:\n"
     ]
    },
    {
     "data": {
      "text/html": [
       "<img style='width: 120px; margin: 0px; float: left;     border: 1px solid black;' src='http://image.tmdb.org/t/p/original/trtANqAEy9dxRCeIe7YEDVeGkLw.jpg' />"
      ],
      "text/plain": [
       "<IPython.core.display.HTML object>"
      ]
     },
     "metadata": {},
     "output_type": "display_data"
    },
    {
     "name": "stdout",
     "output_type": "stream",
     "text": [
      "Recommended movies: \n"
     ]
    },
    {
     "data": {
      "text/html": [
       "<img style='width: 120px; margin: 0px; float: left;     border: 1px solid black;' src='http://image.tmdb.org/t/p/original/2Kr5u2cvt0lKcIk1NyUrUs8eeDN.jpg' /><img style='width: 120px; margin: 0px; float: left;     border: 1px solid black;' src='http://image.tmdb.org/t/p/original/jABswtfPt03TWjfJnUJ3HmMWWjT.jpg' /><img style='width: 120px; margin: 0px; float: left;     border: 1px solid black;' src='http://image.tmdb.org/t/p/original/lFbBQ55MkBxVxQPwALjzMu3y9rD.jpg' /><img style='width: 120px; margin: 0px; float: left;     border: 1px solid black;' src='http://image.tmdb.org/t/p/original/qWjRfBwr4VculczswwojXgoU0mq.jpg' /><img style='width: 120px; margin: 0px; float: left;     border: 1px solid black;' src='http://image.tmdb.org/t/p/original/yGMnu5JddJXl87S9wmDGPAKF75W.jpg' />"
      ],
      "text/plain": [
       "<IPython.core.display.HTML object>"
      ]
     },
     "metadata": {},
     "output_type": "display_data"
    },
    {
     "name": "stdout",
     "output_type": "stream",
     "text": [
      "\n",
      "\n",
      "\n",
      "Input movie:\n"
     ]
    },
    {
     "data": {
      "text/html": [
       "<img style='width: 120px; margin: 0px; float: left;     border: 1px solid black;' src='http://image.tmdb.org/t/p/original/jgJoRWltoS17nD5MAQ1yK2Ztefw.jpg' />"
      ],
      "text/plain": [
       "<IPython.core.display.HTML object>"
      ]
     },
     "metadata": {},
     "output_type": "display_data"
    },
    {
     "name": "stdout",
     "output_type": "stream",
     "text": [
      "Recommended movies: \n"
     ]
    },
    {
     "data": {
      "text/html": [
       "<img style='width: 120px; margin: 0px; float: left;     border: 1px solid black;' src='http://image.tmdb.org/t/p/original/bXQIL36VQdzJ69lcjQR1WQzJqQR.jpg' /><img style='width: 120px; margin: 0px; float: left;     border: 1px solid black;' src='http://image.tmdb.org/t/p/original/vYzFGhcca17r9Yzfwc6osZoriMo.jpg' /><img style='width: 120px; margin: 0px; float: left;     border: 1px solid black;' src='http://image.tmdb.org/t/p/original/drtXi58nN6P3zcoLh6wUlsZAYqh.jpg' /><img style='width: 120px; margin: 0px; float: left;     border: 1px solid black;' src='http://image.tmdb.org/t/p/original/oahXApmG38L2rkopdyBZcA9ZxV0.jpg' /><img style='width: 120px; margin: 0px; float: left;     border: 1px solid black;' src='http://image.tmdb.org/t/p/original/ye1xEG6SnrfAvzAkgLQSVNIm1oI.jpg' />"
      ],
      "text/plain": [
       "<IPython.core.display.HTML object>"
      ]
     },
     "metadata": {},
     "output_type": "display_data"
    },
    {
     "name": "stdout",
     "output_type": "stream",
     "text": [
      "\n",
      "\n",
      "\n"
     ]
    }
   ],
   "source": [
    "movieids = [1, 10, 50]\n",
    "num_recs = 5       \n",
    "\n",
    "for movieid in movieids:\n",
    "    display_rec_movies(movieid, num_recs)\n",
    "    print ('\\n\\n')"
   ]
  },
  {
   "cell_type": "code",
   "execution_count": null,
   "metadata": {
    "collapsed": true
   },
   "outputs": [],
   "source": []
  }
 ],
 "metadata": {
  "kernelspec": {
   "display_name": "Python 3",
   "language": "python",
   "name": "python3"
  },
  "language_info": {
   "codemirror_mode": {
    "name": "ipython",
    "version": 3
   },
   "file_extension": ".py",
   "mimetype": "text/x-python",
   "name": "python",
   "nbconvert_exporter": "python",
   "pygments_lexer": "ipython3",
   "version": "3.6.0"
  }
 },
 "nbformat": 4,
 "nbformat_minor": 2
}
