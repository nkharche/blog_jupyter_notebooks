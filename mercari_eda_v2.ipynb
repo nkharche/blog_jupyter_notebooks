{
 "cells": [
  {
   "cell_type": "markdown",
   "metadata": {},
   "source": [
    "# Mercari Price Suggestion Challenge (EDA)\n",
    "This competition is hosted by [Mercari](!https://www.mercari.com/), Japan’s biggest community-powered shopping app. They provide a hassle-free and secure way for anyone to buy and sell stuff straight from their mobile device.\n",
    "\n",
    "In this competition, we are asked to build an algorithm to predict the sale price of a product based on information a user provides for this product. The schema of the data is as follows:\n",
    " * train_id or test_id - the id of the listing\n",
    " * name - the title of the listing. Note that we have cleaned the data to remove text that look like prices (e.g. \\$20) to avoid leakage. These removed prices are represented as [rm]\n",
    " * item_condition_id - the condition of the items provided by the seller\n",
    "category_name - category of the listing\n",
    " * brand_name\n",
    " * price - the price that the item was sold for. This is the target variable that you will predict. The unit is USD. This column doesn't exist in test.tsv since that is what you will predict.\n",
    " * shipping - 1 if shipping fee is paid by seller and 0 by buyer\n",
    " * item_description - the full description of the item. Note that we have cleaned the data to remove text that look like prices (e.g. $20) to avoid leakage. These removed prices are represented as [rm]"
   ]
  },
  {
   "cell_type": "markdown",
   "metadata": {},
   "source": [
    "In this Notebook, we perform exploratory data analysis (EDA)."
   ]
  },
  {
   "cell_type": "code",
   "execution_count": 1,
   "metadata": {
    "collapsed": false
   },
   "outputs": [],
   "source": [
    "import pandas as pd\n",
    "import numpy as np\n",
    "import re\n",
    "from sklearn.base import BaseEstimator, TransformerMixin\n",
    "from sklearn.feature_extraction.text import CountVectorizer, TfidfVectorizer\n",
    "from sklearn.pipeline import Pipeline\n",
    "from sklearn.feature_extraction import text\n",
    "\n",
    "import matplotlib.pyplot as plt\n",
    "%matplotlib inline"
   ]
  },
  {
   "cell_type": "markdown",
   "metadata": {},
   "source": [
    "### Load the training data into a Pandas dataframe"
   ]
  },
  {
   "cell_type": "code",
   "execution_count": 2,
   "metadata": {
    "collapsed": false,
    "scrolled": false
   },
   "outputs": [
    {
     "data": {
      "text/html": [
       "<div>\n",
       "<style>\n",
       "    .dataframe thead tr:only-child th {\n",
       "        text-align: right;\n",
       "    }\n",
       "\n",
       "    .dataframe thead th {\n",
       "        text-align: left;\n",
       "    }\n",
       "\n",
       "    .dataframe tbody tr th {\n",
       "        vertical-align: top;\n",
       "    }\n",
       "</style>\n",
       "<table border=\"1\" class=\"dataframe\">\n",
       "  <thead>\n",
       "    <tr style=\"text-align: right;\">\n",
       "      <th></th>\n",
       "      <th>name</th>\n",
       "      <th>item_condition_id</th>\n",
       "      <th>category_name</th>\n",
       "      <th>brand_name</th>\n",
       "      <th>price</th>\n",
       "      <th>shipping</th>\n",
       "      <th>item_description</th>\n",
       "    </tr>\n",
       "  </thead>\n",
       "  <tbody>\n",
       "    <tr>\n",
       "      <th>0</th>\n",
       "      <td>MLB Cincinnati Reds T Shirt Size XL</td>\n",
       "      <td>3</td>\n",
       "      <td>Men/Tops/T-shirts</td>\n",
       "      <td>NaN</td>\n",
       "      <td>10.0</td>\n",
       "      <td>1</td>\n",
       "      <td>No description yet</td>\n",
       "    </tr>\n",
       "    <tr>\n",
       "      <th>1</th>\n",
       "      <td>Razer BlackWidow Chroma Keyboard</td>\n",
       "      <td>3</td>\n",
       "      <td>Electronics/Computers &amp; Tablets/Components &amp; P...</td>\n",
       "      <td>Razer</td>\n",
       "      <td>52.0</td>\n",
       "      <td>0</td>\n",
       "      <td>This keyboard is in great condition and works ...</td>\n",
       "    </tr>\n",
       "  </tbody>\n",
       "</table>\n",
       "</div>"
      ],
      "text/plain": [
       "                                  name  item_condition_id  \\\n",
       "0  MLB Cincinnati Reds T Shirt Size XL                  3   \n",
       "1     Razer BlackWidow Chroma Keyboard                  3   \n",
       "\n",
       "                                       category_name brand_name  price  \\\n",
       "0                                  Men/Tops/T-shirts        NaN   10.0   \n",
       "1  Electronics/Computers & Tablets/Components & P...      Razer   52.0   \n",
       "\n",
       "   shipping                                   item_description  \n",
       "0         1                                 No description yet  \n",
       "1         0  This keyboard is in great condition and works ...  "
      ]
     },
     "execution_count": 2,
     "metadata": {},
     "output_type": "execute_result"
    }
   ],
   "source": [
    "df = pd.read_csv('../input/train.tsv', sep='\\t')\n",
    "df = df.drop(['train_id'], axis=1)\n",
    "df.head(2)"
   ]
  },
  {
   "cell_type": "code",
   "execution_count": 3,
   "metadata": {
    "collapsed": false,
    "scrolled": true
   },
   "outputs": [],
   "source": [
    "## We will work with a samller subset for code development and test \n",
    "#df = df.sample(n=None, frac=0.05)\n",
    "#print (len(df))\n",
    "#df.head(2)"
   ]
  },
  {
   "cell_type": "markdown",
   "metadata": {},
   "source": [
    "### Check for missing values"
   ]
  },
  {
   "cell_type": "code",
   "execution_count": 4,
   "metadata": {
    "collapsed": false
   },
   "outputs": [
    {
     "name": "stdout",
     "output_type": "stream",
     "text": [
      "Total number of rows in training set: 1482535\n",
      "\n",
      "Number of missing values\n"
     ]
    },
    {
     "data": {
      "text/plain": [
       "name                      0\n",
       "item_condition_id         0\n",
       "category_name          6327\n",
       "brand_name           632682\n",
       "price                     0\n",
       "shipping                  0\n",
       "item_description          4\n",
       "dtype: int64"
      ]
     },
     "execution_count": 4,
     "metadata": {},
     "output_type": "execute_result"
    }
   ],
   "source": [
    "print ('Total number of rows in training set: {:d}'.format(len(df)))\n",
    "\n",
    "print ('\\nNumber of missing values')\n",
    "df.isnull().sum(axis=0)"
   ]
  },
  {
   "cell_type": "markdown",
   "metadata": {},
   "source": [
    "### Fill missing values\n",
    " * A missing category name becomes 'Other'\n",
    " * A missing brand name becomes 'Unknown'\n",
    " * A missing item description becomes 'No description yet'"
   ]
  },
  {
   "cell_type": "code",
   "execution_count": 5,
   "metadata": {
    "collapsed": false
   },
   "outputs": [],
   "source": [
    "class MissingValuesHandler(BaseEstimator, TransformerMixin):\n",
    "    # Extracts a given list of columns from the input dataframe and returns a new dataframe\n",
    "    \n",
    "    def __init__(self, col_name_replacevalue_tuples):\n",
    "        self.col_name_replacevalue_tuples = col_name_replacevalue_tuples\n",
    "    \n",
    "    def fit(self, df, y=None):\n",
    "        return self\n",
    "    \n",
    "    def transform(self, df):\n",
    "        for (col, val) in self.col_name_replacevalue_tuples:\n",
    "            df[col] = df[col].fillna(val)\n",
    "        return df"
   ]
  },
  {
   "cell_type": "code",
   "execution_count": 6,
   "metadata": {
    "collapsed": true
   },
   "outputs": [],
   "source": [
    "missing_values_handler = MissingValuesHandler([('category_name', 'Other'), \n",
    "                                               ('brand_name', 'Unknown'), \n",
    "                                               ('item_description', 'No description yet')]\n",
    "                                             )\n",
    "df = missing_values_handler.fit_transform(df)"
   ]
  },
  {
   "cell_type": "markdown",
   "metadata": {},
   "source": [
    "### Price distribution"
   ]
  },
  {
   "cell_type": "code",
   "execution_count": 7,
   "metadata": {
    "collapsed": false
   },
   "outputs": [
    {
     "name": "stdout",
     "output_type": "stream",
     "text": [
      "Price ranges from $0.00 to $2009.00\n"
     ]
    }
   ],
   "source": [
    "print ('Price ranges from ${:.2f} to ${:.2f}'.format(min(df['price']), max(df['price'])))"
   ]
  },
  {
   "cell_type": "code",
   "execution_count": 8,
   "metadata": {
    "collapsed": false
   },
   "outputs": [
    {
     "data": {
      "text/plain": [
       "(-10, 260)"
      ]
     },
     "execution_count": 8,
     "metadata": {},
     "output_type": "execute_result"
    },
    {
     "data": {
      "image/png": "[encoded data removed]",
      "text/plain": [
       "<matplotlib.figure.Figure at 0x7f8fd0a1dd68>"
      ]
     },
     "metadata": {},
     "output_type": "display_data"
    }
   ],
   "source": [
    "# Price histogram\n",
    "fig, ax = plt.subplots(figsize=(5,5))\n",
    "ax.hist(df['price'], bins=np.linspace(0,250,50), alpha=0.5)#, label='')\n",
    "ax.set_xlabel('price')\n",
    "ax.set_ylabel('Frequency')\n",
    "ax.set_xlim(-10,260)"
   ]
  },
  {
   "cell_type": "markdown",
   "metadata": {},
   "source": [
    "Distribution of 'price' is right skewed. Let's take a log, i.e. log(price+1). We add 1 because some listings have 0 price. "
   ]
  },
  {
   "cell_type": "code",
   "execution_count": 9,
   "metadata": {
    "collapsed": false
   },
   "outputs": [
    {
     "data": {
      "image/png": "[encoded data removed]",
      "text/plain": [
       "<matplotlib.figure.Figure at 0x7f8fd08ddbe0>"
      ]
     },
     "metadata": {},
     "output_type": "display_data"
    }
   ],
   "source": [
    "def plot_logprice_hist_and_kde(df, num_bins=50):\n",
    "    fig, ax = plt.subplots(ncols=2, figsize=(10,5))\n",
    "    \n",
    "    # Histogram\n",
    "    ax[0].hist(np.log(df['price']+1), bins=num_bins, alpha=0.5)#, label='')\n",
    "    #ax[0].legend(loc='center left', bbox_to_anchor=(1.0, 0.5))\n",
    "    ax[0].set_xlabel('log(price+1)')\n",
    "    ax[0].set_ylabel('Frequency')\n",
    "\n",
    "    # KDE plot\n",
    "    np.log(df['price']+1).plot(kind='kde', ax=ax[1])#, legend=True)\n",
    "    #ax[1].legend(loc='center left', bbox_to_anchor=(1.0, 0.5))\n",
    "    ax[1].set_xlabel('log(price+1)')\n",
    "    ax[1].set_ylabel('Density')\n",
    "    \n",
    "    # Match x-axis limits\n",
    "    xlims_hist = (ax[0].get_xlim())\n",
    "    xlims_kde = (ax[1].get_xlim())\n",
    "    tuples = [xlims_hist, xlims_kde]\n",
    "    new_xlims = [sum(y)/len(y) for y in zip(*tuples)]\n",
    "    ax[0].set_xlim(new_xlims)\n",
    "    ax[1].set_xlim(new_xlims)\n",
    "    \n",
    "    fig.suptitle('log(price+1)', fontsize=12)\n",
    "    \n",
    "    \n",
    "plot_logprice_hist_and_kde(df, num_bins=50)"
   ]
  },
  {
   "cell_type": "markdown",
   "metadata": {
    "collapsed": false
   },
   "source": [
    "Log transformation has more symmetric distribution. We will use this transformation in our predictive model."
   ]
  },
  {
   "cell_type": "markdown",
   "metadata": {},
   "source": [
    "### Shipping\n",
    "Shipping is a dummy variable; 1 if shipping fee is paid by seller and 0 by buyer. We expect the price to be lower for items where shipping is paid by the seller. "
   ]
  },
  {
   "cell_type": "code",
   "execution_count": 10,
   "metadata": {
    "collapsed": false
   },
   "outputs": [
    {
     "data": {
      "text/plain": [
       "<matplotlib.text.Text at 0x7f8fd06532b0>"
      ]
     },
     "execution_count": 10,
     "metadata": {},
     "output_type": "execute_result"
    },
    {
     "data": {
      "image/png": "[encoded data removed]",
      "text/plain": [
       "<matplotlib.figure.Figure at 0x7f8fd09c1160>"
      ]
     },
     "metadata": {},
     "output_type": "display_data"
    }
   ],
   "source": [
    "fig, ax = plt.subplots(figsize=(5,5))\n",
    "np.log(df[df['shipping']==0]['price']+1).plot(kind='kde', label='shipping=0')\n",
    "np.log(df[df['shipping']==1]['price']+1).plot(kind='kde', label='shipping=1')\n",
    "ax.set_xlabel('price')\n",
    "ax.set_ylabel('Density')\n",
    "ax.legend()#loc='center left', bbox_to_anchor=(1.0, 0.5))\n",
    "fig.suptitle('Distribution of log price by shipping', fontsize=12)"
   ]
  },
  {
   "cell_type": "markdown",
   "metadata": {},
   "source": [
    "### Categories\n",
    "Each item is hierarchically classified into 3 subcategories. For example 'Men/Sweats & Hoodies/Hoodie'. We convert subcategories into lists and use them as one-hot-encoded features in our predictive model. The main category is stored in a separate column called 'cat_1'. There are 11 unique main categories."
   ]
  },
  {
   "cell_type": "code",
   "execution_count": 11,
   "metadata": {
    "collapsed": false
   },
   "outputs": [],
   "source": [
    "regex = r'\\b\\w+\\b'\n",
    "regex = r'[^-\\w]+'\n",
    "pattern_alphanumeric = re.compile('([^\\s\\w]|_)+')\n",
    "\n",
    "class CategoriesProcessor(BaseEstimator, TransformerMixin):\n",
    "    \n",
    "    def __init__(self, cat_col):\n",
    "        self.cat_col = cat_col\n",
    "    \n",
    "    def fit(self, df, y=None):\n",
    "        return self\n",
    "    \n",
    "    def transform(self, df):\n",
    "        df['cat_1'] = df[self.cat_col].apply(lambda x: str(x).split()[0])        \n",
    "        df[self.cat_col] = df[self.cat_col].apply(lambda x: self.parse_categories_line(x))        \n",
    "        return df\n",
    "        \n",
    "    def parse_categories_line(self, line):\n",
    "        try:\n",
    "            cats = ' '.join(line.split('/')[:3]) \n",
    "            cats = re.sub('-','', line)\n",
    "            cats = cats.lower()\n",
    "                   # convert to lowercase\n",
    "            cats = pattern_alphanumeric.sub(' ', cats)\n",
    "                   # Remove everything except alphanumeric characters            \n",
    "            return cats\n",
    "        except:\n",
    "            return ['Other']\n",
    "\n",
    "categories_processor = CategoriesProcessor('category_name').fit_transform(df).iloc[:10]"
   ]
  },
  {
   "cell_type": "markdown",
   "metadata": {
    "collapsed": false
   },
   "source": [
    "### Item description tf-idf\n",
    "Now we generate tf-idf features using 'item_description' column."
   ]
  },
  {
   "cell_type": "code",
   "execution_count": 12,
   "metadata": {
    "collapsed": false
   },
   "outputs": [],
   "source": [
    "pattern_alphanumeric = re.compile('([^\\s\\w]|_)+')\n",
    "pattern_numeric = re.compile('[0-9]+')\n",
    "pattern_rem_multi_spaces = re.compile('\\s\\s+')\n",
    "pattern_words = re.compile(r'\\w*\\d\\w*')\n",
    "\n",
    "\n",
    "class TextCleaner(BaseEstimator, TransformerMixin):\n",
    "    \n",
    "    def __init__(self, columns):\n",
    "        self.columns = columns\n",
    "        \n",
    "    def fit(self, df, y=None):\n",
    "        return self\n",
    "    \n",
    "    def transform(self, df):\n",
    "        result_df = df[self.columns[0]]\n",
    "        for col in self.columns[1:]:\n",
    "            result_df += \" \" + df[col]\n",
    "        result_df = result_df \\\n",
    "                    .apply(lambda x: self.string_cleanup(str(x)))\n",
    "        return result_df.values\n",
    "        \n",
    "    def string_cleanup(self, string):\n",
    "        string = string.strip()\n",
    "                # Remove leading and trailing whitespaces from EmployerName\n",
    "        string = string.lower()\n",
    "                # convert to lowercase\n",
    "        string = pattern_alphanumeric.sub(' ', string)\n",
    "                # Remove everything except alphanumeric characters\n",
    "        string = pattern_numeric.sub('', string).strip()\n",
    "                # Remove numbers\n",
    "        string = pattern_rem_multi_spaces.sub(' ', string)\n",
    "                # Replace multiple whitespaces by a single whitespace    \n",
    "        return string    \n",
    "    \n",
    "    \n",
    "#TextCleaner(['item_description', 'name']).fit_transform(df.iloc[:2])"
   ]
  },
  {
   "cell_type": "code",
   "execution_count": 13,
   "metadata": {
    "collapsed": false
   },
   "outputs": [],
   "source": [
    "stop_words = text.ENGLISH_STOP_WORDS.union([\"rm\"])\n",
    "\n",
    "tfidf_vectorizer = TfidfVectorizer(max_features = 25000, \n",
    "                                   ngram_range = (1,2),\n",
    "                                   stop_words = stop_words)\n",
    "\n",
    "description_pipe = Pipeline([('text_cleaner', TextCleaner(['item_description'])),\n",
    "                             ('vectorizer', tfidf_vectorizer)\n",
    "                            ])\n",
    "\n",
    "description_features = description_pipe.fit_transform(df, y=None)"
   ]
  },
  {
   "cell_type": "code",
   "execution_count": 14,
   "metadata": {
    "collapsed": true
   },
   "outputs": [],
   "source": [
    "#  create a dictionary mapping the tokens to their idf scores\n",
    "vectorizer = description_pipe.named_steps['vectorizer']\n",
    "idf = dict(zip(vectorizer.get_feature_names(), vectorizer.idf_))\n",
    "idf = pd.DataFrame(columns=['idf']).from_dict(dict(idf), orient='index')\n",
    "idf.columns = ['idf']"
   ]
  },
  {
   "cell_type": "code",
   "execution_count": 15,
   "metadata": {
    "collapsed": false
   },
   "outputs": [
    {
     "data": {
      "text/html": [
       "<div>\n",
       "<style>\n",
       "    .dataframe thead tr:only-child th {\n",
       "        text-align: right;\n",
       "    }\n",
       "\n",
       "    .dataframe thead th {\n",
       "        text-align: left;\n",
       "    }\n",
       "\n",
       "    .dataframe tbody tr th {\n",
       "        vertical-align: top;\n",
       "    }\n",
       "</style>\n",
       "<table border=\"1\" class=\"dataframe\">\n",
       "  <thead>\n",
       "    <tr style=\"text-align: right;\">\n",
       "      <th></th>\n",
       "      <th>idf</th>\n",
       "    </tr>\n",
       "  </thead>\n",
       "  <tbody>\n",
       "    <tr>\n",
       "      <th>new</th>\n",
       "      <td>2.171149</td>\n",
       "    </tr>\n",
       "    <tr>\n",
       "      <th>size</th>\n",
       "      <td>2.326017</td>\n",
       "    </tr>\n",
       "    <tr>\n",
       "      <th>brand</th>\n",
       "      <td>2.743339</td>\n",
       "    </tr>\n",
       "    <tr>\n",
       "      <th>condition</th>\n",
       "      <td>2.797614</td>\n",
       "    </tr>\n",
       "    <tr>\n",
       "      <th>brand new</th>\n",
       "      <td>2.860643</td>\n",
       "    </tr>\n",
       "    <tr>\n",
       "      <th>free</th>\n",
       "      <td>2.892814</td>\n",
       "    </tr>\n",
       "    <tr>\n",
       "      <th>shipping</th>\n",
       "      <td>3.063314</td>\n",
       "    </tr>\n",
       "    <tr>\n",
       "      <th>worn</th>\n",
       "      <td>3.103477</td>\n",
       "    </tr>\n",
       "    <tr>\n",
       "      <th>used</th>\n",
       "      <td>3.161584</td>\n",
       "    </tr>\n",
       "    <tr>\n",
       "      <th>great</th>\n",
       "      <td>3.342792</td>\n",
       "    </tr>\n",
       "  </tbody>\n",
       "</table>\n",
       "</div>"
      ],
      "text/plain": [
       "                idf\n",
       "new        2.171149\n",
       "size       2.326017\n",
       "brand      2.743339\n",
       "condition  2.797614\n",
       "brand new  2.860643\n",
       "free       2.892814\n",
       "shipping   3.063314\n",
       "worn       3.103477\n",
       "used       3.161584\n",
       "great      3.342792"
      ]
     },
     "execution_count": 15,
     "metadata": {},
     "output_type": "execute_result"
    }
   ],
   "source": [
    "# tokens with the lowest idf score\n",
    "idf.sort_values(by=['idf'], ascending=True).head(10)"
   ]
  },
  {
   "cell_type": "code",
   "execution_count": 16,
   "metadata": {
    "collapsed": false
   },
   "outputs": [
    {
     "data": {
      "text/html": [
       "<div>\n",
       "<style>\n",
       "    .dataframe thead tr:only-child th {\n",
       "        text-align: right;\n",
       "    }\n",
       "\n",
       "    .dataframe thead th {\n",
       "        text-align: left;\n",
       "    }\n",
       "\n",
       "    .dataframe tbody tr th {\n",
       "        vertical-align: top;\n",
       "    }\n",
       "</style>\n",
       "<table border=\"1\" class=\"dataframe\">\n",
       "  <thead>\n",
       "    <tr style=\"text-align: right;\">\n",
       "      <th></th>\n",
       "      <th>idf</th>\n",
       "    </tr>\n",
       "  </thead>\n",
       "  <tbody>\n",
       "    <tr>\n",
       "      <th>candles discount</th>\n",
       "      <td>12.031211</td>\n",
       "    </tr>\n",
       "    <tr>\n",
       "      <th>pcs oz</th>\n",
       "      <td>11.808067</td>\n",
       "    </tr>\n",
       "    <tr>\n",
       "      <th>sheet choose</th>\n",
       "      <td>11.808067</td>\n",
       "    </tr>\n",
       "    <tr>\n",
       "      <th>oz pcs</th>\n",
       "      <td>11.625746</td>\n",
       "    </tr>\n",
       "    <tr>\n",
       "      <th>dollars lanyards</th>\n",
       "      <td>11.425075</td>\n",
       "    </tr>\n",
       "    <tr>\n",
       "      <th>color inch</th>\n",
       "      <td>11.380623</td>\n",
       "    </tr>\n",
       "    <tr>\n",
       "      <th>hidrocor</th>\n",
       "      <td>11.338064</td>\n",
       "    </tr>\n",
       "    <tr>\n",
       "      <th>holika</th>\n",
       "      <td>11.317444</td>\n",
       "    </tr>\n",
       "    <tr>\n",
       "      <th>cup normal</th>\n",
       "      <td>11.297242</td>\n",
       "    </tr>\n",
       "    <tr>\n",
       "      <th>salt lamp</th>\n",
       "      <td>11.297242</td>\n",
       "    </tr>\n",
       "  </tbody>\n",
       "</table>\n",
       "</div>"
      ],
      "text/plain": [
       "                        idf\n",
       "candles discount  12.031211\n",
       "pcs oz            11.808067\n",
       "sheet choose      11.808067\n",
       "oz pcs            11.625746\n",
       "dollars lanyards  11.425075\n",
       "color inch        11.380623\n",
       "hidrocor          11.338064\n",
       "holika            11.317444\n",
       "cup normal        11.297242\n",
       "salt lamp         11.297242"
      ]
     },
     "execution_count": 16,
     "metadata": {},
     "output_type": "execute_result"
    }
   ],
   "source": [
    "# tokens with the highest idf score\n",
    "idf.sort_values(by=['idf'], ascending=False).head(10)"
   ]
  },
  {
   "cell_type": "markdown",
   "metadata": {},
   "source": [
    "As expected, tokens with low idf score are very generic words while tokens with high idf score are more specific."
   ]
  },
  {
   "cell_type": "markdown",
   "metadata": {},
   "source": [
    "### Name tf-idf\n",
    "Now we generate tf-idf features using 'name' column."
   ]
  },
  {
   "cell_type": "code",
   "execution_count": 17,
   "metadata": {
    "collapsed": false
   },
   "outputs": [],
   "source": [
    "stop_words = text.ENGLISH_STOP_WORDS.union([\"rm\"])\n",
    "\n",
    "tfidf_vectorizer = TfidfVectorizer(max_features = 25000, \n",
    "                                   ngram_range = (1,2),\n",
    "                                   stop_words = stop_words)\n",
    "\n",
    "name_pipe = Pipeline([('text_cleaner', TextCleaner(['name'])),\n",
    "                      ('vectorizer', tfidf_vectorizer)\n",
    "                     ])\n",
    "\n",
    "name_features = name_pipe.fit_transform(df, y=None)\n",
    "#name_features"
   ]
  },
  {
   "cell_type": "code",
   "execution_count": 18,
   "metadata": {
    "collapsed": false
   },
   "outputs": [],
   "source": [
    "#  create a dictionary mapping the tokens to their tfidf scores\n",
    "vectorizer = name_pipe.named_steps['vectorizer']\n",
    "idf = dict(zip(vectorizer.get_feature_names(), vectorizer.idf_))\n",
    "idf = pd.DataFrame(columns=['idf']).from_dict(dict(idf), orient='index')\n",
    "idf.columns = ['idf']"
   ]
  },
  {
   "cell_type": "code",
   "execution_count": 19,
   "metadata": {
    "collapsed": false
   },
   "outputs": [
    {
     "data": {
      "text/html": [
       "<div>\n",
       "<style>\n",
       "    .dataframe thead tr:only-child th {\n",
       "        text-align: right;\n",
       "    }\n",
       "\n",
       "    .dataframe thead th {\n",
       "        text-align: left;\n",
       "    }\n",
       "\n",
       "    .dataframe tbody tr th {\n",
       "        vertical-align: top;\n",
       "    }\n",
       "</style>\n",
       "<table border=\"1\" class=\"dataframe\">\n",
       "  <thead>\n",
       "    <tr style=\"text-align: right;\">\n",
       "      <th></th>\n",
       "      <th>idf</th>\n",
       "    </tr>\n",
       "  </thead>\n",
       "  <tbody>\n",
       "    <tr>\n",
       "      <th>pink</th>\n",
       "      <td>3.877993</td>\n",
       "    </tr>\n",
       "    <tr>\n",
       "      <th>bundle</th>\n",
       "      <td>3.947394</td>\n",
       "    </tr>\n",
       "    <tr>\n",
       "      <th>new</th>\n",
       "      <td>3.961425</td>\n",
       "    </tr>\n",
       "    <tr>\n",
       "      <th>size</th>\n",
       "      <td>4.004047</td>\n",
       "    </tr>\n",
       "    <tr>\n",
       "      <th>lularoe</th>\n",
       "      <td>4.151431</td>\n",
       "    </tr>\n",
       "    <tr>\n",
       "      <th>black</th>\n",
       "      <td>4.272112</td>\n",
       "    </tr>\n",
       "    <tr>\n",
       "      <th>nike</th>\n",
       "      <td>4.464512</td>\n",
       "    </tr>\n",
       "    <tr>\n",
       "      <th>vs</th>\n",
       "      <td>4.509577</td>\n",
       "    </tr>\n",
       "    <tr>\n",
       "      <th>secret</th>\n",
       "      <td>4.599763</td>\n",
       "    </tr>\n",
       "    <tr>\n",
       "      <th>dress</th>\n",
       "      <td>4.631252</td>\n",
       "    </tr>\n",
       "  </tbody>\n",
       "</table>\n",
       "</div>"
      ],
      "text/plain": [
       "              idf\n",
       "pink     3.877993\n",
       "bundle   3.947394\n",
       "new      3.961425\n",
       "size     4.004047\n",
       "lularoe  4.151431\n",
       "black    4.272112\n",
       "nike     4.464512\n",
       "vs       4.509577\n",
       "secret   4.599763\n",
       "dress    4.631252"
      ]
     },
     "execution_count": 19,
     "metadata": {},
     "output_type": "execute_result"
    }
   ],
   "source": [
    "# tokens with the lowest tf-idf score\n",
    "idf.sort_values(by=['idf'], ascending=True).head(10)"
   ]
  },
  {
   "cell_type": "code",
   "execution_count": 20,
   "metadata": {
    "collapsed": false
   },
   "outputs": [
    {
     "data": {
      "text/html": [
       "<div>\n",
       "<style>\n",
       "    .dataframe thead tr:only-child th {\n",
       "        text-align: right;\n",
       "    }\n",
       "\n",
       "    .dataframe thead th {\n",
       "        text-align: left;\n",
       "    }\n",
       "\n",
       "    .dataframe tbody tr th {\n",
       "        vertical-align: top;\n",
       "    }\n",
       "</style>\n",
       "<table border=\"1\" class=\"dataframe\">\n",
       "  <thead>\n",
       "    <tr style=\"text-align: right;\">\n",
       "      <th></th>\n",
       "      <th>idf</th>\n",
       "    </tr>\n",
       "  </thead>\n",
       "  <tbody>\n",
       "    <tr>\n",
       "      <th>holika</th>\n",
       "      <td>12.264826</td>\n",
       "    </tr>\n",
       "    <tr>\n",
       "      <th>hei</th>\n",
       "      <td>12.264826</td>\n",
       "    </tr>\n",
       "    <tr>\n",
       "      <th>kissy</th>\n",
       "      <td>12.164742</td>\n",
       "    </tr>\n",
       "    <tr>\n",
       "      <th>ta</th>\n",
       "      <td>12.073770</td>\n",
       "    </tr>\n",
       "    <tr>\n",
       "      <th>sale sale</th>\n",
       "      <td>11.913428</td>\n",
       "    </tr>\n",
       "    <tr>\n",
       "      <th>love love</th>\n",
       "      <td>11.877060</td>\n",
       "    </tr>\n",
       "    <tr>\n",
       "      <th>skating</th>\n",
       "      <td>11.808067</td>\n",
       "    </tr>\n",
       "    <tr>\n",
       "      <th>limitless</th>\n",
       "      <td>11.808067</td>\n",
       "    </tr>\n",
       "    <tr>\n",
       "      <th>doki</th>\n",
       "      <td>11.808067</td>\n",
       "    </tr>\n",
       "    <tr>\n",
       "      <th>bree</th>\n",
       "      <td>11.808067</td>\n",
       "    </tr>\n",
       "  </tbody>\n",
       "</table>\n",
       "</div>"
      ],
      "text/plain": [
       "                 idf\n",
       "holika     12.264826\n",
       "hei        12.264826\n",
       "kissy      12.164742\n",
       "ta         12.073770\n",
       "sale sale  11.913428\n",
       "love love  11.877060\n",
       "skating    11.808067\n",
       "limitless  11.808067\n",
       "doki       11.808067\n",
       "bree       11.808067"
      ]
     },
     "execution_count": 20,
     "metadata": {},
     "output_type": "execute_result"
    }
   ],
   "source": [
    "# tokens with the highest tf-idf score\n",
    "idf.sort_values(by=['idf'], ascending=False).head(10)"
   ]
  },
  {
   "cell_type": "markdown",
   "metadata": {},
   "source": [
    "These tokens seem to be less useful but we will include them anyway in this preliminary model."
   ]
  },
  {
   "cell_type": "markdown",
   "metadata": {},
   "source": [
    "### Score brands by price\n",
    "We calculate a score for each brand as follows: for each category-brand pair we calculate the ratio of median price of all items of that brand belonging to a category and median price of all items in that category. The final brand score is the average of these ratios over all categories."
   ]
  },
  {
   "cell_type": "code",
   "execution_count": 21,
   "metadata": {
    "collapsed": false
   },
   "outputs": [],
   "source": [
    "class BrandScoreCalculator(BaseEstimator, TransformerMixin):\n",
    "    # Returns fuzzy match score between EmployerName and Description of the transaction\n",
    "    \n",
    "    def __init__(self, brand_col, cat_col, price_col, cutoff_count=10):\n",
    "        self.brand_col = brand_col\n",
    "        self.cat_col = cat_col\n",
    "        self.price_col = price_col \n",
    "        self.cutoff_count = cutoff_count\n",
    "    \n",
    "    def fit(self, df, y=None):\n",
    "        df_median_cat_price = df.groupby([self.cat_col])[self.price_col].agg(['median']).add_prefix('price_')\n",
    "        self.median_cat_price = {k: v[0] for k,v in df_median_cat_price.T.to_dict('list').items()}\n",
    "        \n",
    "        self.brand_counts = df.groupby(self.brand_col)[self.brand_col].agg(['count']).add_prefix('brand_') #.reset_index()\n",
    "        \n",
    "        self.brand_score = {k: 0 for k in df[self.brand_col].unique()}\n",
    "        gr = df.groupby([self.brand_col])\n",
    "        for k, v in gr:\n",
    "            df_temp = v.groupby([self.cat_col, self.brand_col])[self.price_col].agg(['median']).add_prefix('price_').reset_index()\n",
    "            df_temp['cat_price_ratio'] = df_temp[[self.cat_col, self.brand_col, 'price_median']] \\\n",
    "                                         .apply(lambda x: self.cat_price_ratio(x[self.cat_col], x[self.brand_col], x['price_median']), axis=1)\n",
    "            self.brand_score[k] = df_temp['cat_price_ratio'].mean()\n",
    "\n",
    "        self.df_brand_score = pd.DataFrame(list(self.brand_score.items()), columns=['brand', 'brand_score'])        \n",
    "        return self\n",
    "    \n",
    "     \n",
    "    def transform(self, df):\n",
    "        return df[self.brand_col].apply(lambda x: self.get_price_ratio(x))\n",
    "        \n",
    "    def cat_price_ratio(self, cat, brand, price):\n",
    "        if price==0 or self.brand_counts.loc[brand].values<self.cutoff_count:\n",
    "            return 1.0\n",
    "        return price/self.median_cat_price[cat]\n",
    "\n",
    "    def get_price_ratio(self, brand):\n",
    "        try:\n",
    "            return self.brand_score[brand]\n",
    "        except KeyError:\n",
    "            return 1.0\n",
    "        \n",
    "    def get_brand_scores(self):\n",
    "        return self.df_brand_score.sort_values(by='brand_score', ascending=False)"
   ]
  },
  {
   "cell_type": "code",
   "execution_count": 22,
   "metadata": {
    "collapsed": true
   },
   "outputs": [],
   "source": [
    "brand_score_calculator = BrandScoreCalculator('brand_name', 'cat_1', 'price', cutoff_count = 10)\n",
    "brand_score_calculator.fit(df, None)\n",
    "df_brand_score = brand_score_calculator.get_brand_scores().iloc[:20]"
   ]
  },
  {
   "cell_type": "code",
   "execution_count": 23,
   "metadata": {
    "collapsed": false
   },
   "outputs": [
    {
     "data": {
      "image/png": "[encoded data removed]",
      "text/plain": [
       "<matplotlib.figure.Figure at 0x7f8fd09cfa58>"
      ]
     },
     "metadata": {},
     "output_type": "display_data"
    }
   ],
   "source": [
    "ax = df_brand_score.iloc[:20].plot.barh(x='brand', y='brand_score', \n",
    "                                        figsize=(10,5), \n",
    "                                        title='brand score',\n",
    "                                        legend=False)\n",
    "ax.invert_yaxis()"
   ]
  },
  {
   "cell_type": "code",
   "execution_count": null,
   "metadata": {
    "collapsed": true
   },
   "outputs": [],
   "source": []
  }
 ],
 "metadata": {
  "kernelspec": {
   "display_name": "Python 3",
   "language": "python",
   "name": "python3"
  },
  "language_info": {
   "codemirror_mode": {
    "name": "ipython",
    "version": 3
   },
   "file_extension": ".py",
   "mimetype": "text/x-python",
   "name": "python",
   "nbconvert_exporter": "python",
   "pygments_lexer": "ipython3",
   "version": "3.6.0"
  }
 },
 "nbformat": 4,
 "nbformat_minor": 2
}
